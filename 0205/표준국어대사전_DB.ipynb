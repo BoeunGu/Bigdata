{
 "cells": [
  {
   "cell_type": "code",
   "execution_count": 1,
   "id": "bba90837",
   "metadata": {},
   "outputs": [],
   "source": [
    "#라이브러리 임포트\n",
    "import requests\n",
    "from bs4 import BeautifulSoup\n",
    "import pyautogui\n",
    "import pandas as pd\n",
    "import csv\n",
    "from pymongo import MongoClient"
   ]
  },
  {
   "cell_type": "code",
   "execution_count": 2,
   "id": "db65814f",
   "metadata": {},
   "outputs": [],
   "source": [
    "client_Korean=MongoClient('localhost',27017)\n",
    "db=client_Korean['Korean_Dic']\n",
    "collection=db['Korean_Dic_collection']"
   ]
  },
  {
   "cell_type": "code",
   "execution_count": null,
   "id": "07fdc96a",
   "metadata": {},
   "outputs": [],
   "source": [
    "\n",
    "\n",
    "    "
   ]
  },
  {
   "cell_type": "code",
   "execution_count": 3,
   "id": "b0d045b9",
   "metadata": {},
   "outputs": [],
   "source": [
    "# file=open('메모.txt','r',encoding=\"utf-8\")\n",
    "# word_list= file.readlines()"
   ]
  },
  {
   "cell_type": "code",
   "execution_count": 4,
   "id": "cc2cce9d",
   "metadata": {},
   "outputs": [],
   "source": [
    "#함수로 표현하기\n",
    "\n",
    "def prittier(dic):\n",
    "    key_list=dic.keys()\n",
    "    for i in key_list:\n",
    "        print(i,':',dic[i])\n",
    "        \n",
    "\n",
    "def show_result(li):\n",
    "    base_URL='https://stdict.korean.go.kr'\n",
    "    dic={} # 딕셔너리 생성\n",
    "    \n",
    "\n",
    "    \n",
    "    \n",
    "    dic['Name']=li.find('a').text.strip() \n",
    "\n",
    "    dic['Number']=li.find('sup').text if li.find('sup') else None\n",
    "\n",
    "    dic['Chinese']=li.find('span','t_gray hanja_font').text.strip() if li.find('span','t_gray hanja_font') else None\n",
    "\n",
    "    category=li.find('dt').text.strip()\n",
    "    c_s=category.index('「')\n",
    "    c_e=category.index('」')\n",
    "    dic['Word']=category[c_s+1:c_e]\n",
    "\n",
    "    \n",
    "    dic['Info']=li.find('font','dataLine').text.strip()\n",
    "  \n",
    "    dic['Link']=base_URL+li.select_one('dl dt a').attrs['href']\n",
    "\n",
    "    \n",
    "    prittier(dic)\n",
    "    collection.insert_one(dic)\n",
    "\n",
    "    \n",
    "\n",
    "\n",
    "    \n",
    "    \n",
    "\n",
    "    \n",
    "\n",
    "def searchword(word):\n",
    "    \n",
    "\n",
    "\n",
    "    #URL가져오기\n",
    "    response = requests.get(f\"https://stdict.korean.go.kr/search/searchResult.do?pageSize=10&searchKeyword={word}\",verify=False)\n",
    "    html=response.text\n",
    "    # 태그 공정\n",
    "    soup=BeautifulSoup(html,'html.parser')\n",
    "    \n",
    "    lis=soup.select('#searchDataVO > div > ul > li')\n",
    "\n",
    "\n",
    "        \n",
    "    for li in lis:\n",
    "\n",
    "        show_result(li)\n",
    "\n",
    "        \n",
    "    print('--------------------------------------------')\n",
    "    \n",
    "    \n",
    "\n",
    "    \n",
    "    \n",
    "def filterType(word):\n",
    "        \n",
    "    if type(word)==str:\n",
    "        searchword(word)\n",
    "    \n",
    "    \n",
    "    \n",
    "    \n",
    "\n",
    "\n",
    "        \n",
    "\n",
    "\n",
    "            \n",
    "\n",
    "        "
   ]
  },
  {
   "cell_type": "code",
   "execution_count": 5,
   "id": "790f6d68",
   "metadata": {
    "scrolled": true
   },
   "outputs": [
    {
     "name": "stderr",
     "output_type": "stream",
     "text": [
      "C:\\Users\\YJ\\anaconda3\\lib\\site-packages\\urllib3\\connectionpool.py:1013: InsecureRequestWarning: Unverified HTTPS request is being made to host 'stdict.korean.go.kr'. Adding certificate verification is strongly advised. See: https://urllib3.readthedocs.io/en/1.26.x/advanced-usage.html#ssl-warnings\n",
      "  warnings.warn(\n"
     ]
    },
    {
     "name": "stdout",
     "output_type": "stream",
     "text": [
      "Name : 학원1\n",
      "Number : 1\n",
      "Chinese : (學員)\n",
      "Word : 명사\n",
      "Info : 공부하는 인원.\n",
      "Link : https://stdict.korean.go.kr/search/searchView.do?word_no=362856&searchKeywordTo=3\n",
      "rrrrrrrrrrrrrrrrrrrrrrrrrrrrrrrr\n",
      "Name : 학원2\n",
      "Number : 2\n",
      "Chinese : (學院)\n",
      "Word : 명사\n",
      "Info : 『교육』 일정한 목적ㆍ교과 과정ㆍ설비ㆍ제도 및 법규에 의하여 계속적으로 학생에게 교육을 실시하는 기관.=학교.\n",
      "Link : https://stdict.korean.go.kr/search/searchView.do?word_no=503671&searchKeywordTo=3\n",
      "rrrrrrrrrrrrrrrrrrrrrrrrrrrrrrrr\n",
      "Name : 학원3\n",
      "Number : 3\n",
      "Chinese : (學園)\n",
      "Word : 명사\n",
      "Info : 『교육』 학교 및 기타 교육 기관을 통틀어 이르는 말.\n",
      "Link : https://stdict.korean.go.kr/search/searchView.do?word_no=362857&searchKeywordTo=3\n",
      "rrrrrrrrrrrrrrrrrrrrrrrrrrrrrrrr\n",
      "Name : 학원4\n",
      "Number : 4\n",
      "Chinese : (學園)\n",
      "Word : 명사\n",
      "Info : 『문학』 1919년에 발간된 최초의 학생 잡지. 창가, 소설 따위가 발표되어 소년ㆍ소녀들에게 처음으로 문학적인 분위기에 접하는 계기를 만들어 주었다.\n",
      "Link : https://stdict.korean.go.kr/search/searchView.do?word_no=362858&searchKeywordTo=3\n",
      "rrrrrrrrrrrrrrrrrrrrrrrrrrrrrrrr\n",
      "--------------------------------------------\n"
     ]
    }
   ],
   "source": [
    "filterType('학원')"
   ]
  },
  {
   "cell_type": "code",
   "execution_count": null,
   "id": "98340bc1",
   "metadata": {},
   "outputs": [],
   "source": []
  },
  {
   "cell_type": "code",
   "execution_count": null,
   "id": "1c5f43f8",
   "metadata": {},
   "outputs": [],
   "source": []
  }
 ],
 "metadata": {
  "kernelspec": {
   "display_name": "Python 3 (ipykernel)",
   "language": "python",
   "name": "python3"
  },
  "language_info": {
   "codemirror_mode": {
    "name": "ipython",
    "version": 3
   },
   "file_extension": ".py",
   "mimetype": "text/x-python",
   "name": "python",
   "nbconvert_exporter": "python",
   "pygments_lexer": "ipython3",
   "version": "3.9.7"
  }
 },
 "nbformat": 4,
 "nbformat_minor": 5
}
