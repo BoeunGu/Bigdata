{
 "cells": [
  {
   "cell_type": "markdown",
   "id": "9984a33c",
   "metadata": {},
   "source": [
    "# Open API_ Air Condition\n",
    "### JSON 타입의 API 처리하기\n"
   ]
  },
  {
   "cell_type": "code",
   "execution_count": 5,
   "id": "092b53ee",
   "metadata": {},
   "outputs": [],
   "source": [
    "import requests\n",
    "from bs4 import BeautifulSoup"
   ]
  },
  {
   "cell_type": "code",
   "execution_count": 29,
   "id": "262e8a26",
   "metadata": {},
   "outputs": [],
   "source": [
    "url='http://apis.data.go.kr/B552584/ArpltnInforInqireSvc/getCtprvnRltmMesureDnsty'\n",
    "\n",
    "param_data={'sidoName':'대구',\n",
    "            'pageNo':'1',\n",
    "            'numOfRows':'1000',\n",
    "            'returnType':'json',\n",
    "            'serviceKey':'hv2kRgNo//Csty9EFczwIBosa8NffACY+jyKfHWZ0po2erSkH+uGEBEsbbEFniTtEKR/9n4D2X3tY6Idc1XvQQ==',\n",
    "            'ver':'1.0'\n",
    "           }\n",
    "\n",
    "#servicekey=decoding key를 넣어줘야함\n",
    "#.py로 해야하는 이유 : window가 call할수 있기때문에 ->  주기적으로 업데이트 되는 api이기 때문에 schduling을 하여 주기적으로 데이터를 받아와서 \n",
    "#DB에 넣어주는작업을 해야함 (리눅스 Schduler:Cron사용)\n",
    "#때에 따라 발생하는 exception을 다 처리해야함\n",
    "#exception이 발생하는지 확인해야함 \n",
    "#ex) 관리자에게 알림, "
   ]
  },
  {
   "cell_type": "code",
   "execution_count": 11,
   "id": "7bd56dc6",
   "metadata": {},
   "outputs": [],
   "source": [
    "res=requests.get(url,params=param_data)"
   ]
  },
  {
   "cell_type": "code",
   "execution_count": 12,
   "id": "3df689ff",
   "metadata": {},
   "outputs": [
    {
     "name": "stdout",
     "output_type": "stream",
     "text": [
      "{\"response\":{\"body\":{\"totalCount\":20,\"items\":[{\"so2Grade\":\"1\",\"coFlag\":null,\"khaiValue\":\"60\",\"so2Value\":\"0.002\",\"coValue\":\"0.2\",\"pm25Flag\":null,\"pm10Flag\":null,\"o3Grade\":\"2\",\"pm10Value\":\"37\",\"khaiGrade\":\"2\",\"pm25Value\":\"5\",\"sidoName\":\"대구\",\"no2Flag\":null,\"no2Grade\":\"1\",\"o3Flag\":null,\"pm25Grade\":\"1\",\"so2Flag\":null,\"dataTime\":\"2022-02-05 15:00\",\"coGrade\":\"1\",\"no2Value\":\"0.008\",\"stationName\":\"수창동\",\"pm10Grade\":\"1\",\"o3Value\":\"0.042\"},{\"so2Grade\":\"1\",\"coFlag\":null,\"khaiValue\":\"53\",\"so2Value\":\"0.004\",\"coValue\":\"0.3\",\"pm25Flag\":null,\"pm10Flag\":null,\"o3Grade\":\"2\",\"pm10Value\":\"33\",\"khaiGrade\":\"2\",\"pm25Value\":\"10\",\"sidoName\":\"대구\",\"no2Flag\":null,\"no2Grade\":\"1\",\"o3Flag\":null,\"pm25Grade\":\"1\",\"so2Flag\":null,\"dataTime\":\"2022-02-05 15:00\",\"coGrade\":\"1\",\"no2Value\":\"0.007\",\"stationName\":\"지산동\",\"pm10Grade\":\"2\",\"o3Value\":\"0.033\"},{\"so2Grade\":\"1\",\"coFlag\":null,\"khaiValue\":\"-\",\"so2Value\":\"0.002\",\"coValue\":\"0.3\",\"pm25Flag\":null,\"pm10Flag\":null,\"o3Grade\":\"2\",\"pm10Value\":\"37\",\"khaiGrade\":null,\"pm25Value\":\"8\",\"sidoName\":\"대구\",\"no2Flag\":null,\"no2Grade\":\"1\",\"o3Flag\":null,\"pm25Grade\":null,\"so2Flag\":null,\"dataTime\":\"2022-02-05 15:00\",\"coGrade\":\"1\",\"no2Value\":\"0.007\",\"stationName\":\"서호동\",\"pm10Grade\":null,\"o3Value\":\"0.037\"},{\"so2Grade\":\"1\",\"coFlag\":null,\"khaiValue\":\"62\",\"so2Value\":\"0.002\",\"coValue\":\"0.3\",\"pm25Flag\":null,\"pm10Flag\":null,\"o3Grade\":\"2\",\"pm10Value\":\"26\",\"khaiGrade\":\"2\",\"pm25Value\":\"7\",\"sidoName\":\"대구\",\"no2Flag\":null,\"no2Grade\":\"1\",\"o3Flag\":null,\"pm25Grade\":\"1\",\"so2Flag\":null,\"dataTime\":\"2022-02-05 15:00\",\"coGrade\":\"1\",\"no2Value\":\"0.005\",\"stationName\":\"이현동\",\"pm10Grade\":\"1\",\"o3Value\":\"0.044\"},{\"so2Grade\":\"1\",\"coFlag\":null,\"khaiValue\":\"60\",\"so2Value\":\"0.002\",\"coValue\":\"0.3\",\"pm25Flag\":null,\"pm10Flag\":null,\"o3Grade\":\"2\",\"pm10Value\":\"43\",\"khaiGrade\":\"2\",\"pm25Value\":\"8\",\"sidoName\":\"대구\",\"no2Flag\":null,\"no2Grade\":\"1\",\"o3Flag\":null,\"pm25Grade\":\"1\",\"so2Flag\":null,\"dataTime\":\"2022-02-05 15:00\",\"coGrade\":\"1\",\"no2Value\":\"0.010\",\"stationName\":\"평리동\",\"pm10Grade\":\"2\",\"o3Value\":\"0.039\"},{\"so2Grade\":\"1\",\"coFlag\":null,\"khaiValue\":\"59\",\"so2Value\":\"0.002\",\"coValue\":\"0.3\",\"pm25Flag\":null,\"pm10Flag\":null,\"o3Grade\":\"2\",\"pm10Value\":\"27\",\"khaiGrade\":\"2\",\"pm25Value\":\"7\",\"sidoName\":\"대구\",\"no2Flag\":null,\"no2Grade\":\"1\",\"o3Flag\":null,\"pm25Grade\":\"1\",\"so2Flag\":null,\"dataTime\":\"2022-02-05 15:00\",\"coGrade\":\"1\",\"no2Value\":\"0.004\",\"stationName\":\"대명동\",\"pm10Grade\":\"1\",\"o3Value\":\"0.041\"},{\"so2Grade\":\"1\",\"coFlag\":null,\"khaiValue\":\"60\",\"so2Value\":\"0.001\",\"coValue\":\"0.5\",\"pm25Flag\":null,\"pm10Flag\":null,\"o3Grade\":\"2\",\"pm10Value\":\"39\",\"khaiGrade\":\"2\",\"pm25Value\":\"6\",\"sidoName\":\"대구\",\"no2Flag\":null,\"no2Grade\":\"1\",\"o3Flag\":null,\"pm25Grade\":\"1\",\"so2Flag\":null,\"dataTime\":\"2022-02-05 15:00\",\"coGrade\":\"1\",\"no2Value\":\"0.005\",\"stationName\":\"신암동\",\"pm10Grade\":\"1\",\"o3Value\":\"0.042\"},{\"so2Grade\":\"1\",\"coFlag\":null,\"khaiValue\":\"60\",\"so2Value\":\"0.002\",\"coValue\":\"0.4\",\"pm25Flag\":null,\"pm10Flag\":null,\"o3Grade\":\"2\",\"pm10Value\":\"34\",\"khaiGrade\":\"2\",\"pm25Value\":\"7\",\"sidoName\":\"대구\",\"no2Flag\":null,\"no2Grade\":\"1\",\"o3Flag\":null,\"pm25Grade\":\"1\",\"so2Flag\":null,\"dataTime\":\"2022-02-05 15:00\",\"coGrade\":\"1\",\"no2Value\":\"0.002\",\"stationName\":\"태전동\",\"pm10Grade\":\"1\",\"o3Value\":\"0.042\"},{\"so2Grade\":\"1\",\"coFlag\":null,\"khaiValue\":\"61\",\"so2Value\":\"0.002\",\"coValue\":\"0.2\",\"pm25Flag\":null,\"pm10Flag\":null,\"o3Grade\":\"2\",\"pm10Value\":\"27\",\"khaiGrade\":\"2\",\"pm25Value\":\"7\",\"sidoName\":\"대구\",\"no2Flag\":null,\"no2Grade\":\"1\",\"o3Flag\":null,\"pm25Grade\":\"1\",\"so2Flag\":null,\"dataTime\":\"2022-02-05 15:00\",\"coGrade\":\"1\",\"no2Value\":\"0.003\",\"stationName\":\"산격동\",\"pm10Grade\":\"1\",\"o3Value\":\"0.043\"},{\"so2Grade\":\"1\",\"coFlag\":null,\"khaiValue\":\"59\",\"so2Value\":\"0.003\",\"coValue\":\"0.4\",\"pm25Flag\":null,\"pm10Flag\":null,\"o3Grade\":\"2\",\"pm10Value\":\"35\",\"khaiGrade\":\"2\",\"pm25Value\":\"2\",\"sidoName\":\"대구\",\"no2Flag\":null,\"no2Grade\":\"1\",\"o3Flag\":null,\"pm25Grade\":\"1\",\"so2Flag\":null,\"dataTime\":\"2022-02-05 15:00\",\"coGrade\":\"1\",\"no2Value\":\"0.009\",\"stationName\":\"만촌동\",\"pm10Grade\":\"1\",\"o3Value\":\"0.041\"},{\"so2Grade\":\"1\",\"coFlag\":null,\"khaiValue\":\"59\",\"so2Value\":\"0.002\",\"coValue\":\"0.3\",\"pm25Flag\":null,\"pm10Flag\":null,\"o3Grade\":\"2\",\"pm10Value\":\"27\",\"khaiGrade\":\"2\",\"pm25Value\":\"8\",\"sidoName\":\"대구\",\"no2Flag\":null,\"no2Grade\":\"1\",\"o3Flag\":null,\"pm25Grade\":\"1\",\"so2Flag\":null,\"dataTime\":\"2022-02-05 15:00\",\"coGrade\":\"1\",\"no2Value\":\"0.005\",\"stationName\":\"호림동\",\"pm10Grade\":\"1\",\"o3Value\":\"0.041\"},{\"so2Grade\":\"1\",\"coFlag\":null,\"khaiValue\":\"61\",\"so2Value\":\"0.002\",\"coValue\":\"0.6\",\"pm25Flag\":null,\"pm10Flag\":null,\"o3Grade\":\"2\",\"pm10Value\":\"21\",\"khaiGrade\":\"2\",\"pm25Value\":\"5\",\"sidoName\":\"대구\",\"no2Flag\":null,\"no2Grade\":\"1\",\"o3Flag\":null,\"pm25Grade\":\"1\",\"so2Flag\":null,\"dataTime\":\"2022-02-05 15:00\",\"coGrade\":\"1\",\"no2Value\":\"0.003\",\"stationName\":\"유가읍\",\"pm10Grade\":\"1\",\"o3Value\":\"0.043\"},{\"so2Grade\":\"1\",\"coFlag\":null,\"khaiValue\":\"61\",\"so2Value\":\"0.002\",\"coValue\":\"0.1\",\"pm25Flag\":null,\"pm10Flag\":null,\"o3Grade\":\"2\",\"pm10Value\":\"26\",\"khaiGrade\":\"2\",\"pm25Value\":\"9\",\"sidoName\":\"대구\",\"no2Flag\":null,\"no2Grade\":\"1\",\"o3Flag\":null,\"pm25Grade\":\"1\",\"so2Flag\":null,\"dataTime\":\"2022-02-05 15:00\",\"coGrade\":\"1\",\"no2Value\":\"0.006\",\"stationName\":\"이곡동\",\"pm10Grade\":\"1\",\"o3Value\":\"0.043\"},{\"so2Grade\":\"1\",\"coFlag\":null,\"khaiValue\":\"59\",\"so2Value\":\"0.002\",\"coValue\":\"0.3\",\"pm25Flag\":null,\"pm10Flag\":null,\"o3Grade\":\"2\",\"pm10Value\":\"30\",\"khaiGrade\":\"2\",\"pm25Value\":\"6\",\"sidoName\":\"대구\",\"no2Flag\":null,\"no2Grade\":\"1\",\"o3Flag\":null,\"pm25Grade\":\"1\",\"so2Flag\":null,\"dataTime\":\"2022-02-05 15:00\",\"coGrade\":\"1\",\"no2Value\":\"0.005\",\"stationName\":\"시지동\",\"pm10Grade\":\"1\",\"o3Value\":\"0.041\"},{\"so2Grade\":\"1\",\"coFlag\":null,\"khaiValue\":\"54\",\"so2Value\":\"0.001\",\"coValue\":\"0.3\",\"pm25Flag\":null,\"pm10Flag\":null,\"o3Grade\":\"1\",\"pm10Value\":\"43\",\"khaiGrade\":\"2\",\"pm25Value\":\"5\",\"sidoName\":\"대구\",\"no2Flag\":null,\"no2Grade\":\"1\",\"o3Flag\":null,\"pm25Grade\":\"1\",\"so2Flag\":null,\"dataTime\":\"2022-02-05 15:00\",\"coGrade\":\"1\",\"no2Value\":\"0.011\",\"stationName\":\"진천동\",\"pm10Grade\":\"2\",\"o3Value\":\"0.027\"},{\"so2Grade\":null,\"coFlag\":null,\"khaiValue\":\"61\",\"so2Value\":\"-\",\"coValue\":\"0.3\",\"pm25Flag\":null,\"pm10Flag\":null,\"o3Grade\":\"2\",\"pm10Value\":\"28\",\"khaiGrade\":\"2\",\"pm25Value\":\"7\",\"sidoName\":\"대구\",\"no2Flag\":null,\"no2Grade\":\"1\",\"o3Flag\":null,\"pm25Grade\":\"1\",\"so2Flag\":\"자료이상\",\"dataTime\":\"2022-02-05 15:00\",\"coGrade\":\"1\",\"no2Value\":\"0.003\",\"stationName\":\"다사읍\",\"pm10Grade\":\"1\",\"o3Value\":\"0.043\"},{\"so2Grade\":\"1\",\"coFlag\":null,\"khaiValue\":\"59\",\"so2Value\":\"0.001\",\"coValue\":\"0.1\",\"pm25Flag\":null,\"pm10Flag\":null,\"o3Grade\":\"2\",\"pm10Value\":\"45\",\"khaiGrade\":\"2\",\"pm25Value\":\"6\",\"sidoName\":\"대구\",\"no2Flag\":null,\"no2Grade\":\"1\",\"o3Flag\":null,\"pm25Grade\":\"1\",\"so2Flag\":null,\"dataTime\":\"2022-02-05 15:00\",\"coGrade\":\"1\",\"no2Value\":\"0.009\",\"stationName\":\"본동\",\"pm10Grade\":\"2\",\"o3Value\":\"0.037\"},{\"so2Grade\":\"1\",\"coFlag\":null,\"khaiValue\":\"60\",\"so2Value\":\"0.002\",\"coValue\":\"0.3\",\"pm25Flag\":null,\"pm10Flag\":null,\"o3Grade\":\"2\",\"pm10Value\":\"29\",\"khaiGrade\":\"2\",\"pm25Value\":\"5\",\"sidoName\":\"대구\",\"no2Flag\":null,\"no2Grade\":\"1\",\"o3Flag\":null,\"pm25Grade\":\"1\",\"so2Flag\":null,\"dataTime\":\"2022-02-05 15:00\",\"coGrade\":\"1\",\"no2Value\":\"0.004\",\"stationName\":\"내당동\",\"pm10Grade\":\"1\",\"o3Value\":\"0.042\"},{\"so2Grade\":\"1\",\"coFlag\":null,\"khaiValue\":\"58\",\"so2Value\":\"0.002\",\"coValue\":\"0.2\",\"pm25Flag\":null,\"pm10Flag\":null,\"o3Grade\":\"2\",\"pm10Value\":\"43\",\"khaiGrade\":\"2\",\"pm25Value\":\"10\",\"sidoName\":\"대구\",\"no2Flag\":null,\"no2Grade\":\"1\",\"o3Flag\":null,\"pm25Grade\":\"1\",\"so2Flag\":null,\"dataTime\":\"2022-02-05 15:00\",\"coGrade\":\"1\",\"no2Value\":\"0.005\",\"stationName\":\"침산동\",\"pm10Grade\":\"1\",\"o3Value\":\"0.039\"},{\"so2Grade\":\"1\",\"coFlag\":null,\"khaiValue\":\"59\",\"so2Value\":\"0.002\",\"coValue\":\"0.2\",\"pm25Flag\":null,\"pm10Flag\":null,\"o3Grade\":\"2\",\"pm10Value\":\"32\",\"khaiGrade\":\"2\",\"pm25Value\":\"9\",\"sidoName\":\"대구\",\"no2Flag\":null,\"no2Grade\":\"1\",\"o3Flag\":null,\"pm25Grade\":\"1\",\"so2Flag\":null,\"dataTime\":\"2022-02-05 15:00\",\"coGrade\":\"1\",\"no2Value\":\"0.005\",\"stationName\":\"화원읍\",\"pm10Grade\":\"1\",\"o3Value\":\"0.041\"}],\"pageNo\":1,\"numOfRows\":1000},\"header\":{\"resultMsg\":\"NORMAL_CODE\",\"resultCode\":\"00\"}}}\n"
     ]
    }
   ],
   "source": [
    "print(res.text)"
   ]
  },
  {
   "cell_type": "code",
   "execution_count": 13,
   "id": "0462acdb",
   "metadata": {},
   "outputs": [
    {
     "name": "stdout",
     "output_type": "stream",
     "text": [
      "{'response': {'body': {'totalCount': 20, 'items': [{'so2Grade': '1', 'coFlag': None, 'khaiValue': '60', 'so2Value': '0.002', 'coValue': '0.2', 'pm25Flag': None, 'pm10Flag': None, 'o3Grade': '2', 'pm10Value': '37', 'khaiGrade': '2', 'pm25Value': '5', 'sidoName': '대구', 'no2Flag': None, 'no2Grade': '1', 'o3Flag': None, 'pm25Grade': '1', 'so2Flag': None, 'dataTime': '2022-02-05 15:00', 'coGrade': '1', 'no2Value': '0.008', 'stationName': '수창동', 'pm10Grade': '1', 'o3Value': '0.042'}, {'so2Grade': '1', 'coFlag': None, 'khaiValue': '53', 'so2Value': '0.004', 'coValue': '0.3', 'pm25Flag': None, 'pm10Flag': None, 'o3Grade': '2', 'pm10Value': '33', 'khaiGrade': '2', 'pm25Value': '10', 'sidoName': '대구', 'no2Flag': None, 'no2Grade': '1', 'o3Flag': None, 'pm25Grade': '1', 'so2Flag': None, 'dataTime': '2022-02-05 15:00', 'coGrade': '1', 'no2Value': '0.007', 'stationName': '지산동', 'pm10Grade': '2', 'o3Value': '0.033'}, {'so2Grade': '1', 'coFlag': None, 'khaiValue': '-', 'so2Value': '0.002', 'coValue': '0.3', 'pm25Flag': None, 'pm10Flag': None, 'o3Grade': '2', 'pm10Value': '37', 'khaiGrade': None, 'pm25Value': '8', 'sidoName': '대구', 'no2Flag': None, 'no2Grade': '1', 'o3Flag': None, 'pm25Grade': None, 'so2Flag': None, 'dataTime': '2022-02-05 15:00', 'coGrade': '1', 'no2Value': '0.007', 'stationName': '서호동', 'pm10Grade': None, 'o3Value': '0.037'}, {'so2Grade': '1', 'coFlag': None, 'khaiValue': '62', 'so2Value': '0.002', 'coValue': '0.3', 'pm25Flag': None, 'pm10Flag': None, 'o3Grade': '2', 'pm10Value': '26', 'khaiGrade': '2', 'pm25Value': '7', 'sidoName': '대구', 'no2Flag': None, 'no2Grade': '1', 'o3Flag': None, 'pm25Grade': '1', 'so2Flag': None, 'dataTime': '2022-02-05 15:00', 'coGrade': '1', 'no2Value': '0.005', 'stationName': '이현동', 'pm10Grade': '1', 'o3Value': '0.044'}, {'so2Grade': '1', 'coFlag': None, 'khaiValue': '60', 'so2Value': '0.002', 'coValue': '0.3', 'pm25Flag': None, 'pm10Flag': None, 'o3Grade': '2', 'pm10Value': '43', 'khaiGrade': '2', 'pm25Value': '8', 'sidoName': '대구', 'no2Flag': None, 'no2Grade': '1', 'o3Flag': None, 'pm25Grade': '1', 'so2Flag': None, 'dataTime': '2022-02-05 15:00', 'coGrade': '1', 'no2Value': '0.010', 'stationName': '평리동', 'pm10Grade': '2', 'o3Value': '0.039'}, {'so2Grade': '1', 'coFlag': None, 'khaiValue': '59', 'so2Value': '0.002', 'coValue': '0.3', 'pm25Flag': None, 'pm10Flag': None, 'o3Grade': '2', 'pm10Value': '27', 'khaiGrade': '2', 'pm25Value': '7', 'sidoName': '대구', 'no2Flag': None, 'no2Grade': '1', 'o3Flag': None, 'pm25Grade': '1', 'so2Flag': None, 'dataTime': '2022-02-05 15:00', 'coGrade': '1', 'no2Value': '0.004', 'stationName': '대명동', 'pm10Grade': '1', 'o3Value': '0.041'}, {'so2Grade': '1', 'coFlag': None, 'khaiValue': '60', 'so2Value': '0.001', 'coValue': '0.5', 'pm25Flag': None, 'pm10Flag': None, 'o3Grade': '2', 'pm10Value': '39', 'khaiGrade': '2', 'pm25Value': '6', 'sidoName': '대구', 'no2Flag': None, 'no2Grade': '1', 'o3Flag': None, 'pm25Grade': '1', 'so2Flag': None, 'dataTime': '2022-02-05 15:00', 'coGrade': '1', 'no2Value': '0.005', 'stationName': '신암동', 'pm10Grade': '1', 'o3Value': '0.042'}, {'so2Grade': '1', 'coFlag': None, 'khaiValue': '60', 'so2Value': '0.002', 'coValue': '0.4', 'pm25Flag': None, 'pm10Flag': None, 'o3Grade': '2', 'pm10Value': '34', 'khaiGrade': '2', 'pm25Value': '7', 'sidoName': '대구', 'no2Flag': None, 'no2Grade': '1', 'o3Flag': None, 'pm25Grade': '1', 'so2Flag': None, 'dataTime': '2022-02-05 15:00', 'coGrade': '1', 'no2Value': '0.002', 'stationName': '태전동', 'pm10Grade': '1', 'o3Value': '0.042'}, {'so2Grade': '1', 'coFlag': None, 'khaiValue': '61', 'so2Value': '0.002', 'coValue': '0.2', 'pm25Flag': None, 'pm10Flag': None, 'o3Grade': '2', 'pm10Value': '27', 'khaiGrade': '2', 'pm25Value': '7', 'sidoName': '대구', 'no2Flag': None, 'no2Grade': '1', 'o3Flag': None, 'pm25Grade': '1', 'so2Flag': None, 'dataTime': '2022-02-05 15:00', 'coGrade': '1', 'no2Value': '0.003', 'stationName': '산격동', 'pm10Grade': '1', 'o3Value': '0.043'}, {'so2Grade': '1', 'coFlag': None, 'khaiValue': '59', 'so2Value': '0.003', 'coValue': '0.4', 'pm25Flag': None, 'pm10Flag': None, 'o3Grade': '2', 'pm10Value': '35', 'khaiGrade': '2', 'pm25Value': '2', 'sidoName': '대구', 'no2Flag': None, 'no2Grade': '1', 'o3Flag': None, 'pm25Grade': '1', 'so2Flag': None, 'dataTime': '2022-02-05 15:00', 'coGrade': '1', 'no2Value': '0.009', 'stationName': '만촌동', 'pm10Grade': '1', 'o3Value': '0.041'}, {'so2Grade': '1', 'coFlag': None, 'khaiValue': '59', 'so2Value': '0.002', 'coValue': '0.3', 'pm25Flag': None, 'pm10Flag': None, 'o3Grade': '2', 'pm10Value': '27', 'khaiGrade': '2', 'pm25Value': '8', 'sidoName': '대구', 'no2Flag': None, 'no2Grade': '1', 'o3Flag': None, 'pm25Grade': '1', 'so2Flag': None, 'dataTime': '2022-02-05 15:00', 'coGrade': '1', 'no2Value': '0.005', 'stationName': '호림동', 'pm10Grade': '1', 'o3Value': '0.041'}, {'so2Grade': '1', 'coFlag': None, 'khaiValue': '61', 'so2Value': '0.002', 'coValue': '0.6', 'pm25Flag': None, 'pm10Flag': None, 'o3Grade': '2', 'pm10Value': '21', 'khaiGrade': '2', 'pm25Value': '5', 'sidoName': '대구', 'no2Flag': None, 'no2Grade': '1', 'o3Flag': None, 'pm25Grade': '1', 'so2Flag': None, 'dataTime': '2022-02-05 15:00', 'coGrade': '1', 'no2Value': '0.003', 'stationName': '유가읍', 'pm10Grade': '1', 'o3Value': '0.043'}, {'so2Grade': '1', 'coFlag': None, 'khaiValue': '61', 'so2Value': '0.002', 'coValue': '0.1', 'pm25Flag': None, 'pm10Flag': None, 'o3Grade': '2', 'pm10Value': '26', 'khaiGrade': '2', 'pm25Value': '9', 'sidoName': '대구', 'no2Flag': None, 'no2Grade': '1', 'o3Flag': None, 'pm25Grade': '1', 'so2Flag': None, 'dataTime': '2022-02-05 15:00', 'coGrade': '1', 'no2Value': '0.006', 'stationName': '이곡동', 'pm10Grade': '1', 'o3Value': '0.043'}, {'so2Grade': '1', 'coFlag': None, 'khaiValue': '59', 'so2Value': '0.002', 'coValue': '0.3', 'pm25Flag': None, 'pm10Flag': None, 'o3Grade': '2', 'pm10Value': '30', 'khaiGrade': '2', 'pm25Value': '6', 'sidoName': '대구', 'no2Flag': None, 'no2Grade': '1', 'o3Flag': None, 'pm25Grade': '1', 'so2Flag': None, 'dataTime': '2022-02-05 15:00', 'coGrade': '1', 'no2Value': '0.005', 'stationName': '시지동', 'pm10Grade': '1', 'o3Value': '0.041'}, {'so2Grade': '1', 'coFlag': None, 'khaiValue': '54', 'so2Value': '0.001', 'coValue': '0.3', 'pm25Flag': None, 'pm10Flag': None, 'o3Grade': '1', 'pm10Value': '43', 'khaiGrade': '2', 'pm25Value': '5', 'sidoName': '대구', 'no2Flag': None, 'no2Grade': '1', 'o3Flag': None, 'pm25Grade': '1', 'so2Flag': None, 'dataTime': '2022-02-05 15:00', 'coGrade': '1', 'no2Value': '0.011', 'stationName': '진천동', 'pm10Grade': '2', 'o3Value': '0.027'}, {'so2Grade': None, 'coFlag': None, 'khaiValue': '61', 'so2Value': '-', 'coValue': '0.3', 'pm25Flag': None, 'pm10Flag': None, 'o3Grade': '2', 'pm10Value': '28', 'khaiGrade': '2', 'pm25Value': '7', 'sidoName': '대구', 'no2Flag': None, 'no2Grade': '1', 'o3Flag': None, 'pm25Grade': '1', 'so2Flag': '자료이상', 'dataTime': '2022-02-05 15:00', 'coGrade': '1', 'no2Value': '0.003', 'stationName': '다사읍', 'pm10Grade': '1', 'o3Value': '0.043'}, {'so2Grade': '1', 'coFlag': None, 'khaiValue': '59', 'so2Value': '0.001', 'coValue': '0.1', 'pm25Flag': None, 'pm10Flag': None, 'o3Grade': '2', 'pm10Value': '45', 'khaiGrade': '2', 'pm25Value': '6', 'sidoName': '대구', 'no2Flag': None, 'no2Grade': '1', 'o3Flag': None, 'pm25Grade': '1', 'so2Flag': None, 'dataTime': '2022-02-05 15:00', 'coGrade': '1', 'no2Value': '0.009', 'stationName': '본동', 'pm10Grade': '2', 'o3Value': '0.037'}, {'so2Grade': '1', 'coFlag': None, 'khaiValue': '60', 'so2Value': '0.002', 'coValue': '0.3', 'pm25Flag': None, 'pm10Flag': None, 'o3Grade': '2', 'pm10Value': '29', 'khaiGrade': '2', 'pm25Value': '5', 'sidoName': '대구', 'no2Flag': None, 'no2Grade': '1', 'o3Flag': None, 'pm25Grade': '1', 'so2Flag': None, 'dataTime': '2022-02-05 15:00', 'coGrade': '1', 'no2Value': '0.004', 'stationName': '내당동', 'pm10Grade': '1', 'o3Value': '0.042'}, {'so2Grade': '1', 'coFlag': None, 'khaiValue': '58', 'so2Value': '0.002', 'coValue': '0.2', 'pm25Flag': None, 'pm10Flag': None, 'o3Grade': '2', 'pm10Value': '43', 'khaiGrade': '2', 'pm25Value': '10', 'sidoName': '대구', 'no2Flag': None, 'no2Grade': '1', 'o3Flag': None, 'pm25Grade': '1', 'so2Flag': None, 'dataTime': '2022-02-05 15:00', 'coGrade': '1', 'no2Value': '0.005', 'stationName': '침산동', 'pm10Grade': '1', 'o3Value': '0.039'}, {'so2Grade': '1', 'coFlag': None, 'khaiValue': '59', 'so2Value': '0.002', 'coValue': '0.2', 'pm25Flag': None, 'pm10Flag': None, 'o3Grade': '2', 'pm10Value': '32', 'khaiGrade': '2', 'pm25Value': '9', 'sidoName': '대구', 'no2Flag': None, 'no2Grade': '1', 'o3Flag': None, 'pm25Grade': '1', 'so2Flag': None, 'dataTime': '2022-02-05 15:00', 'coGrade': '1', 'no2Value': '0.005', 'stationName': '화원읍', 'pm10Grade': '1', 'o3Value': '0.041'}], 'pageNo': 1, 'numOfRows': 1000}, 'header': {'resultMsg': 'NORMAL_CODE', 'resultCode': '00'}}}\n"
     ]
    }
   ],
   "source": [
    "data=res.json()\n",
    "#json 형태를 dictonary형태로 가져옴\n",
    "print(data)\n"
   ]
  },
  {
   "cell_type": "code",
   "execution_count": 18,
   "id": "acfa1261",
   "metadata": {},
   "outputs": [],
   "source": [
    "Infos=data['response']['body']['items']"
   ]
  },
  {
   "cell_type": "code",
   "execution_count": 19,
   "id": "e598d967",
   "metadata": {
    "scrolled": true
   },
   "outputs": [
    {
     "name": "stdout",
     "output_type": "stream",
     "text": [
      "[{'so2Grade': '1', 'coFlag': None, 'khaiValue': '60', 'so2Value': '0.002', 'coValue': '0.2', 'pm25Flag': None, 'pm10Flag': None, 'o3Grade': '2', 'pm10Value': '37', 'khaiGrade': '2', 'pm25Value': '5', 'sidoName': '대구', 'no2Flag': None, 'no2Grade': '1', 'o3Flag': None, 'pm25Grade': '1', 'so2Flag': None, 'dataTime': '2022-02-05 15:00', 'coGrade': '1', 'no2Value': '0.008', 'stationName': '수창동', 'pm10Grade': '1', 'o3Value': '0.042'}, {'so2Grade': '1', 'coFlag': None, 'khaiValue': '53', 'so2Value': '0.004', 'coValue': '0.3', 'pm25Flag': None, 'pm10Flag': None, 'o3Grade': '2', 'pm10Value': '33', 'khaiGrade': '2', 'pm25Value': '10', 'sidoName': '대구', 'no2Flag': None, 'no2Grade': '1', 'o3Flag': None, 'pm25Grade': '1', 'so2Flag': None, 'dataTime': '2022-02-05 15:00', 'coGrade': '1', 'no2Value': '0.007', 'stationName': '지산동', 'pm10Grade': '2', 'o3Value': '0.033'}, {'so2Grade': '1', 'coFlag': None, 'khaiValue': '-', 'so2Value': '0.002', 'coValue': '0.3', 'pm25Flag': None, 'pm10Flag': None, 'o3Grade': '2', 'pm10Value': '37', 'khaiGrade': None, 'pm25Value': '8', 'sidoName': '대구', 'no2Flag': None, 'no2Grade': '1', 'o3Flag': None, 'pm25Grade': None, 'so2Flag': None, 'dataTime': '2022-02-05 15:00', 'coGrade': '1', 'no2Value': '0.007', 'stationName': '서호동', 'pm10Grade': None, 'o3Value': '0.037'}, {'so2Grade': '1', 'coFlag': None, 'khaiValue': '62', 'so2Value': '0.002', 'coValue': '0.3', 'pm25Flag': None, 'pm10Flag': None, 'o3Grade': '2', 'pm10Value': '26', 'khaiGrade': '2', 'pm25Value': '7', 'sidoName': '대구', 'no2Flag': None, 'no2Grade': '1', 'o3Flag': None, 'pm25Grade': '1', 'so2Flag': None, 'dataTime': '2022-02-05 15:00', 'coGrade': '1', 'no2Value': '0.005', 'stationName': '이현동', 'pm10Grade': '1', 'o3Value': '0.044'}, {'so2Grade': '1', 'coFlag': None, 'khaiValue': '60', 'so2Value': '0.002', 'coValue': '0.3', 'pm25Flag': None, 'pm10Flag': None, 'o3Grade': '2', 'pm10Value': '43', 'khaiGrade': '2', 'pm25Value': '8', 'sidoName': '대구', 'no2Flag': None, 'no2Grade': '1', 'o3Flag': None, 'pm25Grade': '1', 'so2Flag': None, 'dataTime': '2022-02-05 15:00', 'coGrade': '1', 'no2Value': '0.010', 'stationName': '평리동', 'pm10Grade': '2', 'o3Value': '0.039'}, {'so2Grade': '1', 'coFlag': None, 'khaiValue': '59', 'so2Value': '0.002', 'coValue': '0.3', 'pm25Flag': None, 'pm10Flag': None, 'o3Grade': '2', 'pm10Value': '27', 'khaiGrade': '2', 'pm25Value': '7', 'sidoName': '대구', 'no2Flag': None, 'no2Grade': '1', 'o3Flag': None, 'pm25Grade': '1', 'so2Flag': None, 'dataTime': '2022-02-05 15:00', 'coGrade': '1', 'no2Value': '0.004', 'stationName': '대명동', 'pm10Grade': '1', 'o3Value': '0.041'}, {'so2Grade': '1', 'coFlag': None, 'khaiValue': '60', 'so2Value': '0.001', 'coValue': '0.5', 'pm25Flag': None, 'pm10Flag': None, 'o3Grade': '2', 'pm10Value': '39', 'khaiGrade': '2', 'pm25Value': '6', 'sidoName': '대구', 'no2Flag': None, 'no2Grade': '1', 'o3Flag': None, 'pm25Grade': '1', 'so2Flag': None, 'dataTime': '2022-02-05 15:00', 'coGrade': '1', 'no2Value': '0.005', 'stationName': '신암동', 'pm10Grade': '1', 'o3Value': '0.042'}, {'so2Grade': '1', 'coFlag': None, 'khaiValue': '60', 'so2Value': '0.002', 'coValue': '0.4', 'pm25Flag': None, 'pm10Flag': None, 'o3Grade': '2', 'pm10Value': '34', 'khaiGrade': '2', 'pm25Value': '7', 'sidoName': '대구', 'no2Flag': None, 'no2Grade': '1', 'o3Flag': None, 'pm25Grade': '1', 'so2Flag': None, 'dataTime': '2022-02-05 15:00', 'coGrade': '1', 'no2Value': '0.002', 'stationName': '태전동', 'pm10Grade': '1', 'o3Value': '0.042'}, {'so2Grade': '1', 'coFlag': None, 'khaiValue': '61', 'so2Value': '0.002', 'coValue': '0.2', 'pm25Flag': None, 'pm10Flag': None, 'o3Grade': '2', 'pm10Value': '27', 'khaiGrade': '2', 'pm25Value': '7', 'sidoName': '대구', 'no2Flag': None, 'no2Grade': '1', 'o3Flag': None, 'pm25Grade': '1', 'so2Flag': None, 'dataTime': '2022-02-05 15:00', 'coGrade': '1', 'no2Value': '0.003', 'stationName': '산격동', 'pm10Grade': '1', 'o3Value': '0.043'}, {'so2Grade': '1', 'coFlag': None, 'khaiValue': '59', 'so2Value': '0.003', 'coValue': '0.4', 'pm25Flag': None, 'pm10Flag': None, 'o3Grade': '2', 'pm10Value': '35', 'khaiGrade': '2', 'pm25Value': '2', 'sidoName': '대구', 'no2Flag': None, 'no2Grade': '1', 'o3Flag': None, 'pm25Grade': '1', 'so2Flag': None, 'dataTime': '2022-02-05 15:00', 'coGrade': '1', 'no2Value': '0.009', 'stationName': '만촌동', 'pm10Grade': '1', 'o3Value': '0.041'}, {'so2Grade': '1', 'coFlag': None, 'khaiValue': '59', 'so2Value': '0.002', 'coValue': '0.3', 'pm25Flag': None, 'pm10Flag': None, 'o3Grade': '2', 'pm10Value': '27', 'khaiGrade': '2', 'pm25Value': '8', 'sidoName': '대구', 'no2Flag': None, 'no2Grade': '1', 'o3Flag': None, 'pm25Grade': '1', 'so2Flag': None, 'dataTime': '2022-02-05 15:00', 'coGrade': '1', 'no2Value': '0.005', 'stationName': '호림동', 'pm10Grade': '1', 'o3Value': '0.041'}, {'so2Grade': '1', 'coFlag': None, 'khaiValue': '61', 'so2Value': '0.002', 'coValue': '0.6', 'pm25Flag': None, 'pm10Flag': None, 'o3Grade': '2', 'pm10Value': '21', 'khaiGrade': '2', 'pm25Value': '5', 'sidoName': '대구', 'no2Flag': None, 'no2Grade': '1', 'o3Flag': None, 'pm25Grade': '1', 'so2Flag': None, 'dataTime': '2022-02-05 15:00', 'coGrade': '1', 'no2Value': '0.003', 'stationName': '유가읍', 'pm10Grade': '1', 'o3Value': '0.043'}, {'so2Grade': '1', 'coFlag': None, 'khaiValue': '61', 'so2Value': '0.002', 'coValue': '0.1', 'pm25Flag': None, 'pm10Flag': None, 'o3Grade': '2', 'pm10Value': '26', 'khaiGrade': '2', 'pm25Value': '9', 'sidoName': '대구', 'no2Flag': None, 'no2Grade': '1', 'o3Flag': None, 'pm25Grade': '1', 'so2Flag': None, 'dataTime': '2022-02-05 15:00', 'coGrade': '1', 'no2Value': '0.006', 'stationName': '이곡동', 'pm10Grade': '1', 'o3Value': '0.043'}, {'so2Grade': '1', 'coFlag': None, 'khaiValue': '59', 'so2Value': '0.002', 'coValue': '0.3', 'pm25Flag': None, 'pm10Flag': None, 'o3Grade': '2', 'pm10Value': '30', 'khaiGrade': '2', 'pm25Value': '6', 'sidoName': '대구', 'no2Flag': None, 'no2Grade': '1', 'o3Flag': None, 'pm25Grade': '1', 'so2Flag': None, 'dataTime': '2022-02-05 15:00', 'coGrade': '1', 'no2Value': '0.005', 'stationName': '시지동', 'pm10Grade': '1', 'o3Value': '0.041'}, {'so2Grade': '1', 'coFlag': None, 'khaiValue': '54', 'so2Value': '0.001', 'coValue': '0.3', 'pm25Flag': None, 'pm10Flag': None, 'o3Grade': '1', 'pm10Value': '43', 'khaiGrade': '2', 'pm25Value': '5', 'sidoName': '대구', 'no2Flag': None, 'no2Grade': '1', 'o3Flag': None, 'pm25Grade': '1', 'so2Flag': None, 'dataTime': '2022-02-05 15:00', 'coGrade': '1', 'no2Value': '0.011', 'stationName': '진천동', 'pm10Grade': '2', 'o3Value': '0.027'}, {'so2Grade': None, 'coFlag': None, 'khaiValue': '61', 'so2Value': '-', 'coValue': '0.3', 'pm25Flag': None, 'pm10Flag': None, 'o3Grade': '2', 'pm10Value': '28', 'khaiGrade': '2', 'pm25Value': '7', 'sidoName': '대구', 'no2Flag': None, 'no2Grade': '1', 'o3Flag': None, 'pm25Grade': '1', 'so2Flag': '자료이상', 'dataTime': '2022-02-05 15:00', 'coGrade': '1', 'no2Value': '0.003', 'stationName': '다사읍', 'pm10Grade': '1', 'o3Value': '0.043'}, {'so2Grade': '1', 'coFlag': None, 'khaiValue': '59', 'so2Value': '0.001', 'coValue': '0.1', 'pm25Flag': None, 'pm10Flag': None, 'o3Grade': '2', 'pm10Value': '45', 'khaiGrade': '2', 'pm25Value': '6', 'sidoName': '대구', 'no2Flag': None, 'no2Grade': '1', 'o3Flag': None, 'pm25Grade': '1', 'so2Flag': None, 'dataTime': '2022-02-05 15:00', 'coGrade': '1', 'no2Value': '0.009', 'stationName': '본동', 'pm10Grade': '2', 'o3Value': '0.037'}, {'so2Grade': '1', 'coFlag': None, 'khaiValue': '60', 'so2Value': '0.002', 'coValue': '0.3', 'pm25Flag': None, 'pm10Flag': None, 'o3Grade': '2', 'pm10Value': '29', 'khaiGrade': '2', 'pm25Value': '5', 'sidoName': '대구', 'no2Flag': None, 'no2Grade': '1', 'o3Flag': None, 'pm25Grade': '1', 'so2Flag': None, 'dataTime': '2022-02-05 15:00', 'coGrade': '1', 'no2Value': '0.004', 'stationName': '내당동', 'pm10Grade': '1', 'o3Value': '0.042'}, {'so2Grade': '1', 'coFlag': None, 'khaiValue': '58', 'so2Value': '0.002', 'coValue': '0.2', 'pm25Flag': None, 'pm10Flag': None, 'o3Grade': '2', 'pm10Value': '43', 'khaiGrade': '2', 'pm25Value': '10', 'sidoName': '대구', 'no2Flag': None, 'no2Grade': '1', 'o3Flag': None, 'pm25Grade': '1', 'so2Flag': None, 'dataTime': '2022-02-05 15:00', 'coGrade': '1', 'no2Value': '0.005', 'stationName': '침산동', 'pm10Grade': '1', 'o3Value': '0.039'}, {'so2Grade': '1', 'coFlag': None, 'khaiValue': '59', 'so2Value': '0.002', 'coValue': '0.2', 'pm25Flag': None, 'pm10Flag': None, 'o3Grade': '2', 'pm10Value': '32', 'khaiGrade': '2', 'pm25Value': '9', 'sidoName': '대구', 'no2Flag': None, 'no2Grade': '1', 'o3Flag': None, 'pm25Grade': '1', 'so2Flag': None, 'dataTime': '2022-02-05 15:00', 'coGrade': '1', 'no2Value': '0.005', 'stationName': '화원읍', 'pm10Grade': '1', 'o3Value': '0.041'}]\n"
     ]
    }
   ],
   "source": [
    "print(Infos)"
   ]
  },
  {
   "cell_type": "code",
   "execution_count": 23,
   "id": "dd2eb89b",
   "metadata": {
    "scrolled": true
   },
   "outputs": [
    {
     "name": "stdout",
     "output_type": "stream",
     "text": [
      "[{'so2Grade': '1', 'coFlag': None, 'khaiValue': '60', 'so2Value': '0.002', 'coValue': '0.2', 'pm25Flag': None, 'pm10Flag': None, 'o3Grade': '2', 'pm10Value': '37', 'khaiGrade': '2', 'pm25Value': '5', 'sidoName': '대구', 'no2Flag': None, 'no2Grade': '1', 'o3Flag': None, 'pm25Grade': '1', 'so2Flag': None, 'dataTime': '2022-02-05 15:00', 'coGrade': '1', 'no2Value': '0.008', 'stationName': '수창동', 'pm10Grade': '1', 'o3Value': '0.042'}, {'so2Grade': '1', 'coFlag': None, 'khaiValue': '53', 'so2Value': '0.004', 'coValue': '0.3', 'pm25Flag': None, 'pm10Flag': None, 'o3Grade': '2', 'pm10Value': '33', 'khaiGrade': '2', 'pm25Value': '10', 'sidoName': '대구', 'no2Flag': None, 'no2Grade': '1', 'o3Flag': None, 'pm25Grade': '1', 'so2Flag': None, 'dataTime': '2022-02-05 15:00', 'coGrade': '1', 'no2Value': '0.007', 'stationName': '지산동', 'pm10Grade': '2', 'o3Value': '0.033'}, {'so2Grade': '1', 'coFlag': None, 'khaiValue': '-', 'so2Value': '0.002', 'coValue': '0.3', 'pm25Flag': None, 'pm10Flag': None, 'o3Grade': '2', 'pm10Value': '37', 'khaiGrade': None, 'pm25Value': '8', 'sidoName': '대구', 'no2Flag': None, 'no2Grade': '1', 'o3Flag': None, 'pm25Grade': None, 'so2Flag': None, 'dataTime': '2022-02-05 15:00', 'coGrade': '1', 'no2Value': '0.007', 'stationName': '서호동', 'pm10Grade': None, 'o3Value': '0.037'}, {'so2Grade': '1', 'coFlag': None, 'khaiValue': '62', 'so2Value': '0.002', 'coValue': '0.3', 'pm25Flag': None, 'pm10Flag': None, 'o3Grade': '2', 'pm10Value': '26', 'khaiGrade': '2', 'pm25Value': '7', 'sidoName': '대구', 'no2Flag': None, 'no2Grade': '1', 'o3Flag': None, 'pm25Grade': '1', 'so2Flag': None, 'dataTime': '2022-02-05 15:00', 'coGrade': '1', 'no2Value': '0.005', 'stationName': '이현동', 'pm10Grade': '1', 'o3Value': '0.044'}, {'so2Grade': '1', 'coFlag': None, 'khaiValue': '60', 'so2Value': '0.002', 'coValue': '0.3', 'pm25Flag': None, 'pm10Flag': None, 'o3Grade': '2', 'pm10Value': '43', 'khaiGrade': '2', 'pm25Value': '8', 'sidoName': '대구', 'no2Flag': None, 'no2Grade': '1', 'o3Flag': None, 'pm25Grade': '1', 'so2Flag': None, 'dataTime': '2022-02-05 15:00', 'coGrade': '1', 'no2Value': '0.010', 'stationName': '평리동', 'pm10Grade': '2', 'o3Value': '0.039'}, {'so2Grade': '1', 'coFlag': None, 'khaiValue': '59', 'so2Value': '0.002', 'coValue': '0.3', 'pm25Flag': None, 'pm10Flag': None, 'o3Grade': '2', 'pm10Value': '27', 'khaiGrade': '2', 'pm25Value': '7', 'sidoName': '대구', 'no2Flag': None, 'no2Grade': '1', 'o3Flag': None, 'pm25Grade': '1', 'so2Flag': None, 'dataTime': '2022-02-05 15:00', 'coGrade': '1', 'no2Value': '0.004', 'stationName': '대명동', 'pm10Grade': '1', 'o3Value': '0.041'}, {'so2Grade': '1', 'coFlag': None, 'khaiValue': '60', 'so2Value': '0.001', 'coValue': '0.5', 'pm25Flag': None, 'pm10Flag': None, 'o3Grade': '2', 'pm10Value': '39', 'khaiGrade': '2', 'pm25Value': '6', 'sidoName': '대구', 'no2Flag': None, 'no2Grade': '1', 'o3Flag': None, 'pm25Grade': '1', 'so2Flag': None, 'dataTime': '2022-02-05 15:00', 'coGrade': '1', 'no2Value': '0.005', 'stationName': '신암동', 'pm10Grade': '1', 'o3Value': '0.042'}, {'so2Grade': '1', 'coFlag': None, 'khaiValue': '60', 'so2Value': '0.002', 'coValue': '0.4', 'pm25Flag': None, 'pm10Flag': None, 'o3Grade': '2', 'pm10Value': '34', 'khaiGrade': '2', 'pm25Value': '7', 'sidoName': '대구', 'no2Flag': None, 'no2Grade': '1', 'o3Flag': None, 'pm25Grade': '1', 'so2Flag': None, 'dataTime': '2022-02-05 15:00', 'coGrade': '1', 'no2Value': '0.002', 'stationName': '태전동', 'pm10Grade': '1', 'o3Value': '0.042'}, {'so2Grade': '1', 'coFlag': None, 'khaiValue': '61', 'so2Value': '0.002', 'coValue': '0.2', 'pm25Flag': None, 'pm10Flag': None, 'o3Grade': '2', 'pm10Value': '27', 'khaiGrade': '2', 'pm25Value': '7', 'sidoName': '대구', 'no2Flag': None, 'no2Grade': '1', 'o3Flag': None, 'pm25Grade': '1', 'so2Flag': None, 'dataTime': '2022-02-05 15:00', 'coGrade': '1', 'no2Value': '0.003', 'stationName': '산격동', 'pm10Grade': '1', 'o3Value': '0.043'}, {'so2Grade': '1', 'coFlag': None, 'khaiValue': '59', 'so2Value': '0.003', 'coValue': '0.4', 'pm25Flag': None, 'pm10Flag': None, 'o3Grade': '2', 'pm10Value': '35', 'khaiGrade': '2', 'pm25Value': '2', 'sidoName': '대구', 'no2Flag': None, 'no2Grade': '1', 'o3Flag': None, 'pm25Grade': '1', 'so2Flag': None, 'dataTime': '2022-02-05 15:00', 'coGrade': '1', 'no2Value': '0.009', 'stationName': '만촌동', 'pm10Grade': '1', 'o3Value': '0.041'}, {'so2Grade': '1', 'coFlag': None, 'khaiValue': '59', 'so2Value': '0.002', 'coValue': '0.3', 'pm25Flag': None, 'pm10Flag': None, 'o3Grade': '2', 'pm10Value': '27', 'khaiGrade': '2', 'pm25Value': '8', 'sidoName': '대구', 'no2Flag': None, 'no2Grade': '1', 'o3Flag': None, 'pm25Grade': '1', 'so2Flag': None, 'dataTime': '2022-02-05 15:00', 'coGrade': '1', 'no2Value': '0.005', 'stationName': '호림동', 'pm10Grade': '1', 'o3Value': '0.041'}, {'so2Grade': '1', 'coFlag': None, 'khaiValue': '61', 'so2Value': '0.002', 'coValue': '0.6', 'pm25Flag': None, 'pm10Flag': None, 'o3Grade': '2', 'pm10Value': '21', 'khaiGrade': '2', 'pm25Value': '5', 'sidoName': '대구', 'no2Flag': None, 'no2Grade': '1', 'o3Flag': None, 'pm25Grade': '1', 'so2Flag': None, 'dataTime': '2022-02-05 15:00', 'coGrade': '1', 'no2Value': '0.003', 'stationName': '유가읍', 'pm10Grade': '1', 'o3Value': '0.043'}, {'so2Grade': '1', 'coFlag': None, 'khaiValue': '61', 'so2Value': '0.002', 'coValue': '0.1', 'pm25Flag': None, 'pm10Flag': None, 'o3Grade': '2', 'pm10Value': '26', 'khaiGrade': '2', 'pm25Value': '9', 'sidoName': '대구', 'no2Flag': None, 'no2Grade': '1', 'o3Flag': None, 'pm25Grade': '1', 'so2Flag': None, 'dataTime': '2022-02-05 15:00', 'coGrade': '1', 'no2Value': '0.006', 'stationName': '이곡동', 'pm10Grade': '1', 'o3Value': '0.043'}, {'so2Grade': '1', 'coFlag': None, 'khaiValue': '59', 'so2Value': '0.002', 'coValue': '0.3', 'pm25Flag': None, 'pm10Flag': None, 'o3Grade': '2', 'pm10Value': '30', 'khaiGrade': '2', 'pm25Value': '6', 'sidoName': '대구', 'no2Flag': None, 'no2Grade': '1', 'o3Flag': None, 'pm25Grade': '1', 'so2Flag': None, 'dataTime': '2022-02-05 15:00', 'coGrade': '1', 'no2Value': '0.005', 'stationName': '시지동', 'pm10Grade': '1', 'o3Value': '0.041'}, {'so2Grade': '1', 'coFlag': None, 'khaiValue': '54', 'so2Value': '0.001', 'coValue': '0.3', 'pm25Flag': None, 'pm10Flag': None, 'o3Grade': '1', 'pm10Value': '43', 'khaiGrade': '2', 'pm25Value': '5', 'sidoName': '대구', 'no2Flag': None, 'no2Grade': '1', 'o3Flag': None, 'pm25Grade': '1', 'so2Flag': None, 'dataTime': '2022-02-05 15:00', 'coGrade': '1', 'no2Value': '0.011', 'stationName': '진천동', 'pm10Grade': '2', 'o3Value': '0.027'}, {'so2Grade': None, 'coFlag': None, 'khaiValue': '61', 'so2Value': '-', 'coValue': '0.3', 'pm25Flag': None, 'pm10Flag': None, 'o3Grade': '2', 'pm10Value': '28', 'khaiGrade': '2', 'pm25Value': '7', 'sidoName': '대구', 'no2Flag': None, 'no2Grade': '1', 'o3Flag': None, 'pm25Grade': '1', 'so2Flag': '자료이상', 'dataTime': '2022-02-05 15:00', 'coGrade': '1', 'no2Value': '0.003', 'stationName': '다사읍', 'pm10Grade': '1', 'o3Value': '0.043'}, {'so2Grade': '1', 'coFlag': None, 'khaiValue': '59', 'so2Value': '0.001', 'coValue': '0.1', 'pm25Flag': None, 'pm10Flag': None, 'o3Grade': '2', 'pm10Value': '45', 'khaiGrade': '2', 'pm25Value': '6', 'sidoName': '대구', 'no2Flag': None, 'no2Grade': '1', 'o3Flag': None, 'pm25Grade': '1', 'so2Flag': None, 'dataTime': '2022-02-05 15:00', 'coGrade': '1', 'no2Value': '0.009', 'stationName': '본동', 'pm10Grade': '2', 'o3Value': '0.037'}, {'so2Grade': '1', 'coFlag': None, 'khaiValue': '60', 'so2Value': '0.002', 'coValue': '0.3', 'pm25Flag': None, 'pm10Flag': None, 'o3Grade': '2', 'pm10Value': '29', 'khaiGrade': '2', 'pm25Value': '5', 'sidoName': '대구', 'no2Flag': None, 'no2Grade': '1', 'o3Flag': None, 'pm25Grade': '1', 'so2Flag': None, 'dataTime': '2022-02-05 15:00', 'coGrade': '1', 'no2Value': '0.004', 'stationName': '내당동', 'pm10Grade': '1', 'o3Value': '0.042'}, {'so2Grade': '1', 'coFlag': None, 'khaiValue': '58', 'so2Value': '0.002', 'coValue': '0.2', 'pm25Flag': None, 'pm10Flag': None, 'o3Grade': '2', 'pm10Value': '43', 'khaiGrade': '2', 'pm25Value': '10', 'sidoName': '대구', 'no2Flag': None, 'no2Grade': '1', 'o3Flag': None, 'pm25Grade': '1', 'so2Flag': None, 'dataTime': '2022-02-05 15:00', 'coGrade': '1', 'no2Value': '0.005', 'stationName': '침산동', 'pm10Grade': '1', 'o3Value': '0.039'}, {'so2Grade': '1', 'coFlag': None, 'khaiValue': '59', 'so2Value': '0.002', 'coValue': '0.2', 'pm25Flag': None, 'pm10Flag': None, 'o3Grade': '2', 'pm10Value': '32', 'khaiGrade': '2', 'pm25Value': '9', 'sidoName': '대구', 'no2Flag': None, 'no2Grade': '1', 'o3Flag': None, 'pm25Grade': '1', 'so2Flag': None, 'dataTime': '2022-02-05 15:00', 'coGrade': '1', 'no2Value': '0.005', 'stationName': '화원읍', 'pm10Grade': '1', 'o3Value': '0.041'}]\n",
      "\n"
     ]
    }
   ],
   "source": [
    "list_dic=[]\n",
    "for Info in Infos:\n",
    "    list_dic.append(Info)\n",
    "print(list_dic)\n"
   ]
  },
  {
   "cell_type": "code",
   "execution_count": 28,
   "id": "46975375",
   "metadata": {},
   "outputs": [
    {
     "name": "stdout",
     "output_type": "stream",
     "text": [
      "\n",
      "so2Grade : 1\n",
      "coFlag : None\n",
      "khaiValue : 60\n",
      "so2Value : 0.002\n",
      "coValue : 0.2\n",
      "pm25Flag : None\n",
      "pm10Flag : None\n",
      "o3Grade : 2\n",
      "pm10Value : 37\n",
      "khaiGrade : 2\n",
      "pm25Value : 5\n",
      "sidoName : 대구\n",
      "no2Flag : None\n",
      "no2Grade : 1\n",
      "o3Flag : None\n",
      "pm25Grade : 1\n",
      "so2Flag : None\n",
      "dataTime : 2022-02-05 15:00\n",
      "coGrade : 1\n",
      "no2Value : 0.008\n",
      "stationName : 수창동\n",
      "pm10Grade : 1\n",
      "o3Value : 0.042\n",
      "\n",
      "so2Grade : 1\n",
      "coFlag : None\n",
      "khaiValue : 53\n",
      "so2Value : 0.004\n",
      "coValue : 0.3\n",
      "pm25Flag : None\n",
      "pm10Flag : None\n",
      "o3Grade : 2\n",
      "pm10Value : 33\n",
      "khaiGrade : 2\n",
      "pm25Value : 10\n",
      "sidoName : 대구\n",
      "no2Flag : None\n",
      "no2Grade : 1\n",
      "o3Flag : None\n",
      "pm25Grade : 1\n",
      "so2Flag : None\n",
      "dataTime : 2022-02-05 15:00\n",
      "coGrade : 1\n",
      "no2Value : 0.007\n",
      "stationName : 지산동\n",
      "pm10Grade : 2\n",
      "o3Value : 0.033\n",
      "\n",
      "so2Grade : 1\n",
      "coFlag : None\n",
      "khaiValue : -\n",
      "so2Value : 0.002\n",
      "coValue : 0.3\n",
      "pm25Flag : None\n",
      "pm10Flag : None\n",
      "o3Grade : 2\n",
      "pm10Value : 37\n",
      "khaiGrade : None\n",
      "pm25Value : 8\n",
      "sidoName : 대구\n",
      "no2Flag : None\n",
      "no2Grade : 1\n",
      "o3Flag : None\n",
      "pm25Grade : None\n",
      "so2Flag : None\n",
      "dataTime : 2022-02-05 15:00\n",
      "coGrade : 1\n",
      "no2Value : 0.007\n",
      "stationName : 서호동\n",
      "pm10Grade : None\n",
      "o3Value : 0.037\n",
      "\n",
      "so2Grade : 1\n",
      "coFlag : None\n",
      "khaiValue : 62\n",
      "so2Value : 0.002\n",
      "coValue : 0.3\n",
      "pm25Flag : None\n",
      "pm10Flag : None\n",
      "o3Grade : 2\n",
      "pm10Value : 26\n",
      "khaiGrade : 2\n",
      "pm25Value : 7\n",
      "sidoName : 대구\n",
      "no2Flag : None\n",
      "no2Grade : 1\n",
      "o3Flag : None\n",
      "pm25Grade : 1\n",
      "so2Flag : None\n",
      "dataTime : 2022-02-05 15:00\n",
      "coGrade : 1\n",
      "no2Value : 0.005\n",
      "stationName : 이현동\n",
      "pm10Grade : 1\n",
      "o3Value : 0.044\n",
      "\n",
      "so2Grade : 1\n",
      "coFlag : None\n",
      "khaiValue : 60\n",
      "so2Value : 0.002\n",
      "coValue : 0.3\n",
      "pm25Flag : None\n",
      "pm10Flag : None\n",
      "o3Grade : 2\n",
      "pm10Value : 43\n",
      "khaiGrade : 2\n",
      "pm25Value : 8\n",
      "sidoName : 대구\n",
      "no2Flag : None\n",
      "no2Grade : 1\n",
      "o3Flag : None\n",
      "pm25Grade : 1\n",
      "so2Flag : None\n",
      "dataTime : 2022-02-05 15:00\n",
      "coGrade : 1\n",
      "no2Value : 0.010\n",
      "stationName : 평리동\n",
      "pm10Grade : 2\n",
      "o3Value : 0.039\n",
      "\n",
      "so2Grade : 1\n",
      "coFlag : None\n",
      "khaiValue : 59\n",
      "so2Value : 0.002\n",
      "coValue : 0.3\n",
      "pm25Flag : None\n",
      "pm10Flag : None\n",
      "o3Grade : 2\n",
      "pm10Value : 27\n",
      "khaiGrade : 2\n",
      "pm25Value : 7\n",
      "sidoName : 대구\n",
      "no2Flag : None\n",
      "no2Grade : 1\n",
      "o3Flag : None\n",
      "pm25Grade : 1\n",
      "so2Flag : None\n",
      "dataTime : 2022-02-05 15:00\n",
      "coGrade : 1\n",
      "no2Value : 0.004\n",
      "stationName : 대명동\n",
      "pm10Grade : 1\n",
      "o3Value : 0.041\n",
      "\n",
      "so2Grade : 1\n",
      "coFlag : None\n",
      "khaiValue : 60\n",
      "so2Value : 0.001\n",
      "coValue : 0.5\n",
      "pm25Flag : None\n",
      "pm10Flag : None\n",
      "o3Grade : 2\n",
      "pm10Value : 39\n",
      "khaiGrade : 2\n",
      "pm25Value : 6\n",
      "sidoName : 대구\n",
      "no2Flag : None\n",
      "no2Grade : 1\n",
      "o3Flag : None\n",
      "pm25Grade : 1\n",
      "so2Flag : None\n",
      "dataTime : 2022-02-05 15:00\n",
      "coGrade : 1\n",
      "no2Value : 0.005\n",
      "stationName : 신암동\n",
      "pm10Grade : 1\n",
      "o3Value : 0.042\n",
      "\n",
      "so2Grade : 1\n",
      "coFlag : None\n",
      "khaiValue : 60\n",
      "so2Value : 0.002\n",
      "coValue : 0.4\n",
      "pm25Flag : None\n",
      "pm10Flag : None\n",
      "o3Grade : 2\n",
      "pm10Value : 34\n",
      "khaiGrade : 2\n",
      "pm25Value : 7\n",
      "sidoName : 대구\n",
      "no2Flag : None\n",
      "no2Grade : 1\n",
      "o3Flag : None\n",
      "pm25Grade : 1\n",
      "so2Flag : None\n",
      "dataTime : 2022-02-05 15:00\n",
      "coGrade : 1\n",
      "no2Value : 0.002\n",
      "stationName : 태전동\n",
      "pm10Grade : 1\n",
      "o3Value : 0.042\n",
      "\n",
      "so2Grade : 1\n",
      "coFlag : None\n",
      "khaiValue : 61\n",
      "so2Value : 0.002\n",
      "coValue : 0.2\n",
      "pm25Flag : None\n",
      "pm10Flag : None\n",
      "o3Grade : 2\n",
      "pm10Value : 27\n",
      "khaiGrade : 2\n",
      "pm25Value : 7\n",
      "sidoName : 대구\n",
      "no2Flag : None\n",
      "no2Grade : 1\n",
      "o3Flag : None\n",
      "pm25Grade : 1\n",
      "so2Flag : None\n",
      "dataTime : 2022-02-05 15:00\n",
      "coGrade : 1\n",
      "no2Value : 0.003\n",
      "stationName : 산격동\n",
      "pm10Grade : 1\n",
      "o3Value : 0.043\n",
      "\n",
      "so2Grade : 1\n",
      "coFlag : None\n",
      "khaiValue : 59\n",
      "so2Value : 0.003\n",
      "coValue : 0.4\n",
      "pm25Flag : None\n",
      "pm10Flag : None\n",
      "o3Grade : 2\n",
      "pm10Value : 35\n",
      "khaiGrade : 2\n",
      "pm25Value : 2\n",
      "sidoName : 대구\n",
      "no2Flag : None\n",
      "no2Grade : 1\n",
      "o3Flag : None\n",
      "pm25Grade : 1\n",
      "so2Flag : None\n",
      "dataTime : 2022-02-05 15:00\n",
      "coGrade : 1\n",
      "no2Value : 0.009\n",
      "stationName : 만촌동\n",
      "pm10Grade : 1\n",
      "o3Value : 0.041\n",
      "\n",
      "so2Grade : 1\n",
      "coFlag : None\n",
      "khaiValue : 59\n",
      "so2Value : 0.002\n",
      "coValue : 0.3\n",
      "pm25Flag : None\n",
      "pm10Flag : None\n",
      "o3Grade : 2\n",
      "pm10Value : 27\n",
      "khaiGrade : 2\n",
      "pm25Value : 8\n",
      "sidoName : 대구\n",
      "no2Flag : None\n",
      "no2Grade : 1\n",
      "o3Flag : None\n",
      "pm25Grade : 1\n",
      "so2Flag : None\n",
      "dataTime : 2022-02-05 15:00\n",
      "coGrade : 1\n",
      "no2Value : 0.005\n",
      "stationName : 호림동\n",
      "pm10Grade : 1\n",
      "o3Value : 0.041\n",
      "\n",
      "so2Grade : 1\n",
      "coFlag : None\n",
      "khaiValue : 61\n",
      "so2Value : 0.002\n",
      "coValue : 0.6\n",
      "pm25Flag : None\n",
      "pm10Flag : None\n",
      "o3Grade : 2\n",
      "pm10Value : 21\n",
      "khaiGrade : 2\n",
      "pm25Value : 5\n",
      "sidoName : 대구\n",
      "no2Flag : None\n",
      "no2Grade : 1\n",
      "o3Flag : None\n",
      "pm25Grade : 1\n",
      "so2Flag : None\n",
      "dataTime : 2022-02-05 15:00\n",
      "coGrade : 1\n",
      "no2Value : 0.003\n",
      "stationName : 유가읍\n",
      "pm10Grade : 1\n",
      "o3Value : 0.043\n",
      "\n",
      "so2Grade : 1\n",
      "coFlag : None\n",
      "khaiValue : 61\n",
      "so2Value : 0.002\n",
      "coValue : 0.1\n",
      "pm25Flag : None\n",
      "pm10Flag : None\n",
      "o3Grade : 2\n",
      "pm10Value : 26\n",
      "khaiGrade : 2\n",
      "pm25Value : 9\n",
      "sidoName : 대구\n",
      "no2Flag : None\n",
      "no2Grade : 1\n",
      "o3Flag : None\n",
      "pm25Grade : 1\n",
      "so2Flag : None\n",
      "dataTime : 2022-02-05 15:00\n",
      "coGrade : 1\n",
      "no2Value : 0.006\n",
      "stationName : 이곡동\n",
      "pm10Grade : 1\n",
      "o3Value : 0.043\n",
      "\n",
      "so2Grade : 1\n",
      "coFlag : None\n",
      "khaiValue : 59\n",
      "so2Value : 0.002\n",
      "coValue : 0.3\n",
      "pm25Flag : None\n",
      "pm10Flag : None\n",
      "o3Grade : 2\n",
      "pm10Value : 30\n",
      "khaiGrade : 2\n",
      "pm25Value : 6\n",
      "sidoName : 대구\n",
      "no2Flag : None\n",
      "no2Grade : 1\n",
      "o3Flag : None\n",
      "pm25Grade : 1\n",
      "so2Flag : None\n",
      "dataTime : 2022-02-05 15:00\n",
      "coGrade : 1\n",
      "no2Value : 0.005\n",
      "stationName : 시지동\n",
      "pm10Grade : 1\n",
      "o3Value : 0.041\n",
      "\n",
      "so2Grade : 1\n",
      "coFlag : None\n",
      "khaiValue : 54\n",
      "so2Value : 0.001\n",
      "coValue : 0.3\n",
      "pm25Flag : None\n",
      "pm10Flag : None\n",
      "o3Grade : 1\n",
      "pm10Value : 43\n",
      "khaiGrade : 2\n",
      "pm25Value : 5\n",
      "sidoName : 대구\n",
      "no2Flag : None\n",
      "no2Grade : 1\n",
      "o3Flag : None\n",
      "pm25Grade : 1\n",
      "so2Flag : None\n",
      "dataTime : 2022-02-05 15:00\n",
      "coGrade : 1\n",
      "no2Value : 0.011\n",
      "stationName : 진천동\n",
      "pm10Grade : 2\n",
      "o3Value : 0.027\n",
      "\n",
      "so2Grade : None\n",
      "coFlag : None\n",
      "khaiValue : 61\n",
      "so2Value : -\n",
      "coValue : 0.3\n",
      "pm25Flag : None\n",
      "pm10Flag : None\n",
      "o3Grade : 2\n",
      "pm10Value : 28\n",
      "khaiGrade : 2\n",
      "pm25Value : 7\n",
      "sidoName : 대구\n",
      "no2Flag : None\n",
      "no2Grade : 1\n",
      "o3Flag : None\n",
      "pm25Grade : 1\n",
      "so2Flag : 자료이상\n",
      "dataTime : 2022-02-05 15:00\n",
      "coGrade : 1\n",
      "no2Value : 0.003\n",
      "stationName : 다사읍\n",
      "pm10Grade : 1\n",
      "o3Value : 0.043\n",
      "\n",
      "so2Grade : 1\n",
      "coFlag : None\n",
      "khaiValue : 59\n",
      "so2Value : 0.001\n",
      "coValue : 0.1\n",
      "pm25Flag : None\n",
      "pm10Flag : None\n",
      "o3Grade : 2\n",
      "pm10Value : 45\n",
      "khaiGrade : 2\n",
      "pm25Value : 6\n",
      "sidoName : 대구\n",
      "no2Flag : None\n",
      "no2Grade : 1\n",
      "o3Flag : None\n",
      "pm25Grade : 1\n",
      "so2Flag : None\n",
      "dataTime : 2022-02-05 15:00\n",
      "coGrade : 1\n",
      "no2Value : 0.009\n",
      "stationName : 본동\n",
      "pm10Grade : 2\n",
      "o3Value : 0.037\n",
      "\n",
      "so2Grade : 1\n",
      "coFlag : None\n",
      "khaiValue : 60\n",
      "so2Value : 0.002\n",
      "coValue : 0.3\n",
      "pm25Flag : None\n",
      "pm10Flag : None\n",
      "o3Grade : 2\n",
      "pm10Value : 29\n",
      "khaiGrade : 2\n",
      "pm25Value : 5\n",
      "sidoName : 대구\n",
      "no2Flag : None\n",
      "no2Grade : 1\n",
      "o3Flag : None\n",
      "pm25Grade : 1\n",
      "so2Flag : None\n",
      "dataTime : 2022-02-05 15:00\n",
      "coGrade : 1\n",
      "no2Value : 0.004\n",
      "stationName : 내당동\n",
      "pm10Grade : 1\n",
      "o3Value : 0.042\n",
      "\n",
      "so2Grade : 1\n",
      "coFlag : None\n",
      "khaiValue : 58\n",
      "so2Value : 0.002\n",
      "coValue : 0.2\n",
      "pm25Flag : None\n",
      "pm10Flag : None\n",
      "o3Grade : 2\n",
      "pm10Value : 43\n",
      "khaiGrade : 2\n",
      "pm25Value : 10\n",
      "sidoName : 대구\n",
      "no2Flag : None\n",
      "no2Grade : 1\n",
      "o3Flag : None\n",
      "pm25Grade : 1\n",
      "so2Flag : None\n",
      "dataTime : 2022-02-05 15:00\n",
      "coGrade : 1\n",
      "no2Value : 0.005\n",
      "stationName : 침산동\n",
      "pm10Grade : 1\n",
      "o3Value : 0.039\n",
      "\n",
      "so2Grade : 1\n",
      "coFlag : None\n",
      "khaiValue : 59\n",
      "so2Value : 0.002\n",
      "coValue : 0.2\n",
      "pm25Flag : None\n",
      "pm10Flag : None\n",
      "o3Grade : 2\n",
      "pm10Value : 32\n",
      "khaiGrade : 2\n",
      "pm25Value : 9\n",
      "sidoName : 대구\n",
      "no2Flag : None\n",
      "no2Grade : 1\n",
      "o3Flag : None\n",
      "pm25Grade : 1\n",
      "so2Flag : None\n",
      "dataTime : 2022-02-05 15:00\n",
      "coGrade : 1\n",
      "no2Value : 0.005\n",
      "stationName : 화원읍\n",
      "pm10Grade : 1\n",
      "o3Value : 0.041\n"
     ]
    }
   ],
   "source": [
    "for i in list_dic:\n",
    "    key_arrays=i.keys()\n",
    "    print('')\n",
    "    for key_array in key_arrays:\n",
    "        print(key_array,':',i[key_array])\n",
    "    "
   ]
  },
  {
   "cell_type": "markdown",
   "id": "ff744039",
   "metadata": {},
   "source": [
    "### numpy 연습"
   ]
  },
  {
   "cell_type": "code",
   "execution_count": 30,
   "id": "344e4f44",
   "metadata": {},
   "outputs": [],
   "source": [
    "import numpy as np"
   ]
  },
  {
   "cell_type": "code",
   "execution_count": 32,
   "id": "58b457c1",
   "metadata": {},
   "outputs": [
    {
     "name": "stdout",
     "output_type": "stream",
     "text": [
      "[[0. 0. 0. 0.]\n",
      " [0. 0. 0. 0.]\n",
      " [0. 0. 0. 0.]]\n"
     ]
    }
   ],
   "source": [
    "chart=np.zeros((3,4))\n",
    "print(chart)"
   ]
  },
  {
   "cell_type": "code",
   "execution_count": 33,
   "id": "d83dfb42",
   "metadata": {},
   "outputs": [
    {
     "name": "stdout",
     "output_type": "stream",
     "text": [
      "[[0. 0. 0.]\n",
      " [0. 0. 0.]]\n"
     ]
    }
   ],
   "source": [
    "chart1=np.zeros((2,3))\n",
    "print(chart1)"
   ]
  },
  {
   "cell_type": "code",
   "execution_count": 34,
   "id": "729c5126",
   "metadata": {},
   "outputs": [
    {
     "name": "stdout",
     "output_type": "stream",
     "text": [
      "[[[0. 0.]\n",
      "  [0. 0.]\n",
      "  [0. 0.]]\n",
      "\n",
      " [[0. 0.]\n",
      "  [0. 0.]\n",
      "  [0. 0.]]]\n"
     ]
    }
   ],
   "source": [
    "chart2=np.zeros((2,3,2))\n",
    "print(chart2)"
   ]
  },
  {
   "cell_type": "code",
   "execution_count": 43,
   "id": "bf285855",
   "metadata": {},
   "outputs": [],
   "source": [
    "dd=np.ones((1,2),dtype=np.float64)"
   ]
  },
  {
   "cell_type": "code",
   "execution_count": 44,
   "id": "297e6ac4",
   "metadata": {},
   "outputs": [
    {
     "name": "stdout",
     "output_type": "stream",
     "text": [
      "[[1. 1.]]\n"
     ]
    }
   ],
   "source": [
    "print(dd)"
   ]
  },
  {
   "cell_type": "code",
   "execution_count": 41,
   "id": "f52c6fec",
   "metadata": {},
   "outputs": [
    {
     "name": "stdout",
     "output_type": "stream",
     "text": [
      "<class 'list'>\n"
     ]
    }
   ],
   "source": [
    "aa=[1,2,3.0]\n",
    "print(type(aa))"
   ]
  },
  {
   "cell_type": "code",
   "execution_count": 45,
   "id": "e53b1530",
   "metadata": {},
   "outputs": [
    {
     "name": "stdout",
     "output_type": "stream",
     "text": [
      "[[b'1' b'1']]\n"
     ]
    }
   ],
   "source": [
    "string_dd=np.ones((1,2),dtype=np.string_)\n",
    "print(string_dd)"
   ]
  },
  {
   "cell_type": "code",
   "execution_count": 48,
   "id": "edc1020b",
   "metadata": {},
   "outputs": [
    {
     "name": "stdout",
     "output_type": "stream",
     "text": [
      "[3. 4. 5.]\n"
     ]
    }
   ],
   "source": [
    "arr=np.array([3,4,5])\n",
    "arr=arr.astype(float)\n",
    "print(arr)"
   ]
  },
  {
   "cell_type": "code",
   "execution_count": 49,
   "id": "4461251f",
   "metadata": {},
   "outputs": [
    {
     "name": "stdout",
     "output_type": "stream",
     "text": [
      "[[[1 1 1 1]\n",
      "  [1 1 1 1]\n",
      "  [1 1 1 1]]\n",
      "\n",
      " [[1 1 1 1]\n",
      "  [1 1 1 1]\n",
      "  [1 1 1 1]]]\n"
     ]
    }
   ],
   "source": [
    "pp=np.ones((2,3,4),dtype=np.int64)\n",
    "print(pp)"
   ]
  },
  {
   "cell_type": "code",
   "execution_count": 50,
   "id": "ed4100b8",
   "metadata": {},
   "outputs": [
    {
     "name": "stdout",
     "output_type": "stream",
     "text": [
      "[[0 0 0]\n",
      " [0 0 0]]\n"
     ]
    }
   ],
   "source": [
    "ppp=np.zeros((2,3),dtype=np.int64)\n",
    "print(ppp)"
   ]
  },
  {
   "cell_type": "code",
   "execution_count": null,
   "id": "6fbd678e",
   "metadata": {},
   "outputs": [],
   "source": []
  },
  {
   "cell_type": "code",
   "execution_count": null,
   "id": "b57bd5fd",
   "metadata": {},
   "outputs": [],
   "source": []
  },
  {
   "cell_type": "code",
   "execution_count": null,
   "id": "3152e599",
   "metadata": {},
   "outputs": [],
   "source": []
  },
  {
   "cell_type": "code",
   "execution_count": null,
   "id": "8c4c8f20",
   "metadata": {},
   "outputs": [],
   "source": []
  },
  {
   "cell_type": "code",
   "execution_count": null,
   "id": "4803f894",
   "metadata": {},
   "outputs": [],
   "source": []
  }
 ],
 "metadata": {
  "kernelspec": {
   "display_name": "Python 3 (ipykernel)",
   "language": "python",
   "name": "python3"
  },
  "language_info": {
   "codemirror_mode": {
    "name": "ipython",
    "version": 3
   },
   "file_extension": ".py",
   "mimetype": "text/x-python",
   "name": "python",
   "nbconvert_exporter": "python",
   "pygments_lexer": "ipython3",
   "version": "3.9.7"
  }
 },
 "nbformat": 4,
 "nbformat_minor": 5
}
