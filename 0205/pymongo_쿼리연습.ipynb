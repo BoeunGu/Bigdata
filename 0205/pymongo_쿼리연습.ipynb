{
 "cells": [
  {
   "cell_type": "markdown",
   "id": "ef23e44f",
   "metadata": {},
   "source": [
    "## pymongo 쿼리 연습"
   ]
  },
  {
   "cell_type": "code",
   "execution_count": null,
   "id": "b9a4c6db",
   "metadata": {},
   "outputs": [],
   "source": [
    "pip install pymongo"
   ]
  },
  {
   "cell_type": "code",
   "execution_count": 2,
   "id": "d0b09a56",
   "metadata": {},
   "outputs": [],
   "source": [
    "from pymongo import MongoClient"
   ]
  },
  {
   "cell_type": "code",
   "execution_count": 3,
   "id": "1340de2b",
   "metadata": {},
   "outputs": [],
   "source": [
    "client=MongoClient('localhost',27017)\n",
    "#client=MongoClient('mongodb://localhost:27017')"
   ]
  },
  {
   "cell_type": "code",
   "execution_count": 4,
   "id": "5b65877e",
   "metadata": {},
   "outputs": [],
   "source": [
    "db=client['test-database']\n",
    "#db생성\n",
    "#db=client.test_database 같은 의미"
   ]
  },
  {
   "cell_type": "code",
   "execution_count": 5,
   "id": "0f49a56c",
   "metadata": {},
   "outputs": [],
   "source": [
    "collection=db['test-collection']\n",
    "#collection 생성\n",
    "#test-database에 test-collection에 붙음\n",
    "#collection=db.test-collection 같은 의미\n"
   ]
  },
  {
   "cell_type": "code",
   "execution_count": 6,
   "id": "7862cc9e",
   "metadata": {},
   "outputs": [],
   "source": [
    "data_dic={'name':'홍길동','age':17}\n",
    "#document 생성"
   ]
  },
  {
   "cell_type": "code",
   "execution_count": 7,
   "id": "3705bb3e",
   "metadata": {},
   "outputs": [],
   "source": [
    "re_data_dic=collection.insert_one(data_dic)# data_dic데이터를 db에 넣어줌"
   ]
  },
  {
   "cell_type": "code",
   "execution_count": 9,
   "id": "2fa5c86e",
   "metadata": {},
   "outputs": [
    {
     "name": "stdout",
     "output_type": "stream",
     "text": [
      "<pymongo.results.InsertOneResult object at 0x000001A3F1E86A80>\n"
     ]
    }
   ],
   "source": [
    "print(re_data_dic)"
   ]
  },
  {
   "cell_type": "code",
   "execution_count": 12,
   "id": "5c67e72b",
   "metadata": {},
   "outputs": [],
   "source": [
    "data_dic2={'name':'김길동','age':28}"
   ]
  },
  {
   "cell_type": "code",
   "execution_count": 13,
   "id": "c04df8c1",
   "metadata": {},
   "outputs": [],
   "source": [
    "re_data_dic2=collection.insert_one(data_dic2)"
   ]
  },
  {
   "cell_type": "code",
   "execution_count": 14,
   "id": "7808eaa3",
   "metadata": {},
   "outputs": [],
   "source": [
    "data_list=[{'name':'이길동','age':25},\n",
    "{'name':'소','age':2},\n",
    "{'name':'강아지','age':15},] #여러개의 데이터를 리스트 안에 담아서 넣기"
   ]
  },
  {
   "cell_type": "code",
   "execution_count": 17,
   "id": "dcaf995d",
   "metadata": {},
   "outputs": [
    {
     "ename": "BulkWriteError",
     "evalue": "batch op errors occurred, full error: {'writeErrors': [{'index': 0, 'code': 11000, 'keyPattern': {'_id': 1}, 'keyValue': {'_id': ObjectId('61fde597d244332bbeb11048')}, 'errmsg': \"E11000 duplicate key error collection: test-database.test-collection index: _id_ dup key: { _id: ObjectId('61fde597d244332bbeb11048') }\", 'op': {'name': '이길동', 'age': 25, '_id': ObjectId('61fde597d244332bbeb11048')}}], 'writeConcernErrors': [], 'nInserted': 0, 'nUpserted': 0, 'nMatched': 0, 'nModified': 0, 'nRemoved': 0, 'upserted': []}",
     "output_type": "error",
     "traceback": [
      "\u001b[1;31m---------------------------------------------------------------------------\u001b[0m",
      "\u001b[1;31mBulkWriteError\u001b[0m                            Traceback (most recent call last)",
      "\u001b[1;32m~\\AppData\\Local\\Temp/ipykernel_9036/835182559.py\u001b[0m in \u001b[0;36m<module>\u001b[1;34m\u001b[0m\n\u001b[1;32m----> 1\u001b[1;33m \u001b[0mcollection\u001b[0m\u001b[1;33m.\u001b[0m\u001b[0minsert_many\u001b[0m\u001b[1;33m(\u001b[0m\u001b[0mdata_list\u001b[0m\u001b[1;33m)\u001b[0m\u001b[1;33m\u001b[0m\u001b[1;33m\u001b[0m\u001b[0m\n\u001b[0m",
      "\u001b[1;32m~\\anaconda3\\lib\\site-packages\\pymongo\\collection.py\u001b[0m in \u001b[0;36minsert_many\u001b[1;34m(self, documents, ordered, bypass_document_validation, session)\u001b[0m\n\u001b[0;32m    587\u001b[0m         \u001b[0mblk\u001b[0m \u001b[1;33m=\u001b[0m \u001b[0m_Bulk\u001b[0m\u001b[1;33m(\u001b[0m\u001b[0mself\u001b[0m\u001b[1;33m,\u001b[0m \u001b[0mordered\u001b[0m\u001b[1;33m,\u001b[0m \u001b[0mbypass_document_validation\u001b[0m\u001b[1;33m)\u001b[0m\u001b[1;33m\u001b[0m\u001b[1;33m\u001b[0m\u001b[0m\n\u001b[0;32m    588\u001b[0m         \u001b[0mblk\u001b[0m\u001b[1;33m.\u001b[0m\u001b[0mops\u001b[0m \u001b[1;33m=\u001b[0m \u001b[1;33m[\u001b[0m\u001b[0mdoc\u001b[0m \u001b[1;32mfor\u001b[0m \u001b[0mdoc\u001b[0m \u001b[1;32min\u001b[0m \u001b[0mgen\u001b[0m\u001b[1;33m(\u001b[0m\u001b[1;33m)\u001b[0m\u001b[1;33m]\u001b[0m\u001b[1;33m\u001b[0m\u001b[1;33m\u001b[0m\u001b[0m\n\u001b[1;32m--> 589\u001b[1;33m         \u001b[0mblk\u001b[0m\u001b[1;33m.\u001b[0m\u001b[0mexecute\u001b[0m\u001b[1;33m(\u001b[0m\u001b[0mwrite_concern\u001b[0m\u001b[1;33m,\u001b[0m \u001b[0msession\u001b[0m\u001b[1;33m=\u001b[0m\u001b[0msession\u001b[0m\u001b[1;33m)\u001b[0m\u001b[1;33m\u001b[0m\u001b[1;33m\u001b[0m\u001b[0m\n\u001b[0m\u001b[0;32m    590\u001b[0m         \u001b[1;32mreturn\u001b[0m \u001b[0mInsertManyResult\u001b[0m\u001b[1;33m(\u001b[0m\u001b[0minserted_ids\u001b[0m\u001b[1;33m,\u001b[0m \u001b[0mwrite_concern\u001b[0m\u001b[1;33m.\u001b[0m\u001b[0macknowledged\u001b[0m\u001b[1;33m)\u001b[0m\u001b[1;33m\u001b[0m\u001b[1;33m\u001b[0m\u001b[0m\n\u001b[0;32m    591\u001b[0m \u001b[1;33m\u001b[0m\u001b[0m\n",
      "\u001b[1;32m~\\anaconda3\\lib\\site-packages\\pymongo\\bulk.py\u001b[0m in \u001b[0;36mexecute\u001b[1;34m(self, write_concern, session)\u001b[0m\n\u001b[0;32m    446\u001b[0m                 \u001b[0mself\u001b[0m\u001b[1;33m.\u001b[0m\u001b[0mexecute_no_results\u001b[0m\u001b[1;33m(\u001b[0m\u001b[0msock_info\u001b[0m\u001b[1;33m,\u001b[0m \u001b[0mgenerator\u001b[0m\u001b[1;33m)\u001b[0m\u001b[1;33m\u001b[0m\u001b[1;33m\u001b[0m\u001b[0m\n\u001b[0;32m    447\u001b[0m         \u001b[1;32melse\u001b[0m\u001b[1;33m:\u001b[0m\u001b[1;33m\u001b[0m\u001b[1;33m\u001b[0m\u001b[0m\n\u001b[1;32m--> 448\u001b[1;33m             \u001b[1;32mreturn\u001b[0m \u001b[0mself\u001b[0m\u001b[1;33m.\u001b[0m\u001b[0mexecute_command\u001b[0m\u001b[1;33m(\u001b[0m\u001b[0mgenerator\u001b[0m\u001b[1;33m,\u001b[0m \u001b[0mwrite_concern\u001b[0m\u001b[1;33m,\u001b[0m \u001b[0msession\u001b[0m\u001b[1;33m)\u001b[0m\u001b[1;33m\u001b[0m\u001b[1;33m\u001b[0m\u001b[0m\n\u001b[0m",
      "\u001b[1;32m~\\anaconda3\\lib\\site-packages\\pymongo\\bulk.py\u001b[0m in \u001b[0;36mexecute_command\u001b[1;34m(self, generator, write_concern, session)\u001b[0m\n\u001b[0;32m    346\u001b[0m \u001b[1;33m\u001b[0m\u001b[0m\n\u001b[0;32m    347\u001b[0m         \u001b[1;32mif\u001b[0m \u001b[0mfull_result\u001b[0m\u001b[1;33m[\u001b[0m\u001b[1;34m\"writeErrors\"\u001b[0m\u001b[1;33m]\u001b[0m \u001b[1;32mor\u001b[0m \u001b[0mfull_result\u001b[0m\u001b[1;33m[\u001b[0m\u001b[1;34m\"writeConcernErrors\"\u001b[0m\u001b[1;33m]\u001b[0m\u001b[1;33m:\u001b[0m\u001b[1;33m\u001b[0m\u001b[1;33m\u001b[0m\u001b[0m\n\u001b[1;32m--> 348\u001b[1;33m             \u001b[0m_raise_bulk_write_error\u001b[0m\u001b[1;33m(\u001b[0m\u001b[0mfull_result\u001b[0m\u001b[1;33m)\u001b[0m\u001b[1;33m\u001b[0m\u001b[1;33m\u001b[0m\u001b[0m\n\u001b[0m\u001b[0;32m    349\u001b[0m         \u001b[1;32mreturn\u001b[0m \u001b[0mfull_result\u001b[0m\u001b[1;33m\u001b[0m\u001b[1;33m\u001b[0m\u001b[0m\n\u001b[0;32m    350\u001b[0m \u001b[1;33m\u001b[0m\u001b[0m\n",
      "\u001b[1;32m~\\anaconda3\\lib\\site-packages\\pymongo\\bulk.py\u001b[0m in \u001b[0;36m_raise_bulk_write_error\u001b[1;34m(full_result)\u001b[0m\n\u001b[0;32m    131\u001b[0m         full_result[\"writeErrors\"].sort(\n\u001b[0;32m    132\u001b[0m             key=lambda error: error[\"index\"])\n\u001b[1;32m--> 133\u001b[1;33m     \u001b[1;32mraise\u001b[0m \u001b[0mBulkWriteError\u001b[0m\u001b[1;33m(\u001b[0m\u001b[0mfull_result\u001b[0m\u001b[1;33m)\u001b[0m\u001b[1;33m\u001b[0m\u001b[1;33m\u001b[0m\u001b[0m\n\u001b[0m\u001b[0;32m    134\u001b[0m \u001b[1;33m\u001b[0m\u001b[0m\n\u001b[0;32m    135\u001b[0m \u001b[1;33m\u001b[0m\u001b[0m\n",
      "\u001b[1;31mBulkWriteError\u001b[0m: batch op errors occurred, full error: {'writeErrors': [{'index': 0, 'code': 11000, 'keyPattern': {'_id': 1}, 'keyValue': {'_id': ObjectId('61fde597d244332bbeb11048')}, 'errmsg': \"E11000 duplicate key error collection: test-database.test-collection index: _id_ dup key: { _id: ObjectId('61fde597d244332bbeb11048') }\", 'op': {'name': '이길동', 'age': 25, '_id': ObjectId('61fde597d244332bbeb11048')}}], 'writeConcernErrors': [], 'nInserted': 0, 'nUpserted': 0, 'nMatched': 0, 'nModified': 0, 'nRemoved': 0, 'upserted': []}"
     ]
    }
   ],
   "source": [
    "collection.insert_many(data_list)#리스트 변수를 넣어주면됨"
   ]
  },
  {
   "cell_type": "code",
   "execution_count": 19,
   "id": "a6717f7c",
   "metadata": {},
   "outputs": [],
   "source": [
    "#조회하기\n",
    "search_results=collection.find_one()"
   ]
  },
  {
   "cell_type": "code",
   "execution_count": 20,
   "id": "9637093b",
   "metadata": {},
   "outputs": [
    {
     "data": {
      "text/plain": [
       "{'_id': ObjectId('61fde3fed244332bbeb11046'), 'name': '홍길동', 'age': 17}"
      ]
     },
     "execution_count": 20,
     "metadata": {},
     "output_type": "execute_result"
    }
   ],
   "source": [
    "search_results"
   ]
  },
  {
   "cell_type": "code",
   "execution_count": 21,
   "id": "86c6e573",
   "metadata": {},
   "outputs": [],
   "source": [
    "search_results=collection.find()"
   ]
  },
  {
   "cell_type": "code",
   "execution_count": 24,
   "id": "21d6cac9",
   "metadata": {},
   "outputs": [
    {
     "name": "stdout",
     "output_type": "stream",
     "text": [
      "{'_id': ObjectId('61fde3fed244332bbeb11046'), 'name': '홍길동', 'age': 17}\n",
      "{'_id': ObjectId('61fde4bcd244332bbeb11047'), 'name': '김길동', 'age': 28}\n",
      "{'_id': ObjectId('61fde597d244332bbeb11048'), 'name': '이길동', 'age': 25}\n",
      "{'_id': ObjectId('61fde597d244332bbeb11049'), 'name': '소', 'age': 2}\n",
      "{'_id': ObjectId('61fde597d244332bbeb1104a'), 'name': '강아지', 'age': 15}\n"
     ]
    }
   ],
   "source": [
    "for search_result in search_results:\n",
    "    print(search_result)"
   ]
  },
  {
   "cell_type": "code",
   "execution_count": 33,
   "id": "c6dee9b9",
   "metadata": {},
   "outputs": [],
   "source": [
    "#검색하기\n",
    "#where name='홍길동'\n",
    "search_results1=collection.find({'name':'홍길동'})"
   ]
  },
  {
   "cell_type": "code",
   "execution_count": 34,
   "id": "1b947e12",
   "metadata": {},
   "outputs": [
    {
     "name": "stdout",
     "output_type": "stream",
     "text": [
      "<pymongo.cursor.Cursor object at 0x000001A3F1F52C40>\n"
     ]
    }
   ],
   "source": [
    "print(search_results1)"
   ]
  },
  {
   "cell_type": "code",
   "execution_count": 35,
   "id": "1c1de60e",
   "metadata": {},
   "outputs": [
    {
     "name": "stdout",
     "output_type": "stream",
     "text": [
      "{'_id': ObjectId('61fde597d244332bbeb1104a'), 'name': '강아지', 'age': 15}\n"
     ]
    }
   ],
   "source": [
    "for searech_result in search_results1:\n",
    "    print(search_result)"
   ]
  },
  {
   "cell_type": "code",
   "execution_count": 36,
   "id": "ea98053c",
   "metadata": {},
   "outputs": [],
   "source": [
    "#where name='홍길동' and age=17\n",
    "search_results=collection.find({'name':'홍길동','age':17})"
   ]
  },
  {
   "cell_type": "code",
   "execution_count": 37,
   "id": "a2d21401",
   "metadata": {},
   "outputs": [
    {
     "name": "stdout",
     "output_type": "stream",
     "text": [
      "{'_id': ObjectId('61fde3fed244332bbeb11046'), 'name': '홍길동', 'age': 17}\n"
     ]
    }
   ],
   "source": [
    "for search_result in search_results:\n",
    "    print(search_result)"
   ]
  },
  {
   "cell_type": "code",
   "execution_count": 38,
   "id": "ad94f422",
   "metadata": {},
   "outputs": [],
   "source": [
    "#where age>17 쿼리 "
   ]
  },
  {
   "cell_type": "code",
   "execution_count": 41,
   "id": "628728ee",
   "metadata": {},
   "outputs": [],
   "source": [
    "search_results=collection.find({'age':{'$gt':17}})"
   ]
  },
  {
   "cell_type": "code",
   "execution_count": 42,
   "id": "4b6576e9",
   "metadata": {},
   "outputs": [
    {
     "name": "stdout",
     "output_type": "stream",
     "text": [
      "{'_id': ObjectId('61fde4bcd244332bbeb11047'), 'name': '김길동', 'age': 28}\n",
      "{'_id': ObjectId('61fde597d244332bbeb11048'), 'name': '이길동', 'age': 25}\n"
     ]
    }
   ],
   "source": [
    "for search_result in search_results:\n",
    "    print(search_result)"
   ]
  },
  {
   "cell_type": "code",
   "execution_count": 43,
   "id": "1f968a67",
   "metadata": {},
   "outputs": [],
   "source": [
    "#where age<28\n",
    "search_results=collection.find({'age':{'$lt':28}})"
   ]
  },
  {
   "cell_type": "code",
   "execution_count": 44,
   "id": "e66b22fb",
   "metadata": {},
   "outputs": [
    {
     "name": "stdout",
     "output_type": "stream",
     "text": [
      "{'_id': ObjectId('61fde3fed244332bbeb11046'), 'name': '홍길동', 'age': 17}\n",
      "{'_id': ObjectId('61fde597d244332bbeb11048'), 'name': '이길동', 'age': 25}\n",
      "{'_id': ObjectId('61fde597d244332bbeb11049'), 'name': '소', 'age': 2}\n",
      "{'_id': ObjectId('61fde597d244332bbeb1104a'), 'name': '강아지', 'age': 15}\n"
     ]
    }
   ],
   "source": [
    "for search_result in search_results:\n",
    "    print(search_result)"
   ]
  },
  {
   "cell_type": "code",
   "execution_count": 45,
   "id": "c039467c",
   "metadata": {},
   "outputs": [],
   "source": [
    "#where name !='홍길동'\n",
    "search_results=collection.find({'name':{'$ne':'홍길동'}})"
   ]
  },
  {
   "cell_type": "code",
   "execution_count": 46,
   "id": "cb9c7baf",
   "metadata": {},
   "outputs": [
    {
     "name": "stdout",
     "output_type": "stream",
     "text": [
      "{'_id': ObjectId('61fde4bcd244332bbeb11047'), 'name': '김길동', 'age': 28}\n",
      "{'_id': ObjectId('61fde597d244332bbeb11048'), 'name': '이길동', 'age': 25}\n",
      "{'_id': ObjectId('61fde597d244332bbeb11049'), 'name': '소', 'age': 2}\n",
      "{'_id': ObjectId('61fde597d244332bbeb1104a'), 'name': '강아지', 'age': 15}\n"
     ]
    }
   ],
   "source": [
    "for search_result in search_results:\n",
    "    print(search_result)"
   ]
  },
  {
   "cell_type": "code",
   "execution_count": 53,
   "id": "c1fe86be",
   "metadata": {},
   "outputs": [],
   "source": [
    "#select name from...where age>17 특정 select만 가져오기\n",
    "search_results=collection.find({'age':{'$gt':17}},{'_id':0,'name':1})# 전체 파라미터에서 두번째에 들고오고싶은 필드설정\n",
    "#0은 가져오지 않음 / 1은 가져옴\n"
   ]
  },
  {
   "cell_type": "code",
   "execution_count": 54,
   "id": "522f07ae",
   "metadata": {},
   "outputs": [
    {
     "name": "stdout",
     "output_type": "stream",
     "text": [
      "{'name': '김길동'}\n",
      "{'name': '이길동'}\n"
     ]
    }
   ],
   "source": [
    "for search_result in search_results:\n",
    "    print(search_result)"
   ]
  },
  {
   "cell_type": "code",
   "execution_count": 59,
   "id": "dbfa8242",
   "metadata": {},
   "outputs": [
    {
     "data": {
      "text/plain": [
       "<pymongo.results.UpdateResult at 0x1a3f1f6b8c0>"
      ]
     },
     "execution_count": 59,
     "metadata": {},
     "output_type": "execute_result"
    }
   ],
   "source": [
    "collection.update_one({'name':'홍길동'},{'$set':{'age':18}})"
   ]
  },
  {
   "cell_type": "code",
   "execution_count": 60,
   "id": "24591832",
   "metadata": {},
   "outputs": [],
   "source": [
    "search_results=collection.find({'name':'홍길동'})"
   ]
  },
  {
   "cell_type": "code",
   "execution_count": 61,
   "id": "99ea90d1",
   "metadata": {},
   "outputs": [
    {
     "name": "stdout",
     "output_type": "stream",
     "text": [
      "{'_id': ObjectId('61fde3fed244332bbeb11046'), 'name': '홍길동', 'age': 18}\n"
     ]
    }
   ],
   "source": [
    "for search_result in search_results:\n",
    "    print(search_result)"
   ]
  },
  {
   "cell_type": "code",
   "execution_count": 70,
   "id": "4c07773a",
   "metadata": {},
   "outputs": [
    {
     "data": {
      "text/plain": [
       "<pymongo.results.UpdateResult at 0x1a3f18ee4c0>"
      ]
     },
     "execution_count": 70,
     "metadata": {},
     "output_type": "execute_result"
    }
   ],
   "source": [
    "collection.update_many({'age':{'$gt':20}},{'$set':{'age':21}})"
   ]
  },
  {
   "cell_type": "code",
   "execution_count": 71,
   "id": "69bd3519",
   "metadata": {},
   "outputs": [],
   "source": [
    "search_results=collection.find({'age':{'$gt':20}})"
   ]
  },
  {
   "cell_type": "code",
   "execution_count": 72,
   "id": "cb4356a3",
   "metadata": {},
   "outputs": [
    {
     "name": "stdout",
     "output_type": "stream",
     "text": [
      "{'_id': ObjectId('61fde4bcd244332bbeb11047'), 'name': '김길동', 'age': 21}\n",
      "{'_id': ObjectId('61fde597d244332bbeb11048'), 'name': '이길동', 'age': 21}\n"
     ]
    }
   ],
   "source": [
    "for search_result in search_results:\n",
    "    print(search_result)"
   ]
  },
  {
   "cell_type": "code",
   "execution_count": null,
   "id": "c623404b",
   "metadata": {},
   "outputs": [],
   "source": [
    "#삭제하기"
   ]
  },
  {
   "cell_type": "code",
   "execution_count": 73,
   "id": "d6be2345",
   "metadata": {},
   "outputs": [
    {
     "data": {
      "text/plain": [
       "<pymongo.results.DeleteResult at 0x1a3f18eae80>"
      ]
     },
     "execution_count": 73,
     "metadata": {},
     "output_type": "execute_result"
    }
   ],
   "source": [
    "collection.delete_one({'name':'홍길동'})"
   ]
  },
  {
   "cell_type": "code",
   "execution_count": 77,
   "id": "166f974b",
   "metadata": {},
   "outputs": [
    {
     "data": {
      "text/plain": [
       "<pymongo.results.DeleteResult at 0x1a3f1f5ac40>"
      ]
     },
     "execution_count": 77,
     "metadata": {},
     "output_type": "execute_result"
    }
   ],
   "source": [
    "collection.delete_many({'age':{'$gte':20}})"
   ]
  },
  {
   "cell_type": "code",
   "execution_count": 78,
   "id": "3a549ab1",
   "metadata": {},
   "outputs": [
    {
     "name": "stdout",
     "output_type": "stream",
     "text": [
      "{'_id': ObjectId('61fde597d244332bbeb11049'), 'name': '소', 'age': 2}\n",
      "{'_id': ObjectId('61fde597d244332bbeb1104a'), 'name': '강아지', 'age': 15}\n"
     ]
    }
   ],
   "source": [
    "search_results=collection.find()\n",
    "for search_result in search_results:\n",
    "    print(search_result)\n"
   ]
  },
  {
   "cell_type": "code",
   "execution_count": null,
   "id": "8ffac72d",
   "metadata": {},
   "outputs": [],
   "source": []
  },
  {
   "cell_type": "code",
   "execution_count": null,
   "id": "118e2c1b",
   "metadata": {},
   "outputs": [],
   "source": []
  },
  {
   "cell_type": "code",
   "execution_count": null,
   "id": "49f8b0a3",
   "metadata": {},
   "outputs": [],
   "source": []
  },
  {
   "cell_type": "code",
   "execution_count": null,
   "id": "057ba264",
   "metadata": {},
   "outputs": [],
   "source": []
  },
  {
   "cell_type": "code",
   "execution_count": null,
   "id": "5327d7f5",
   "metadata": {},
   "outputs": [],
   "source": []
  },
  {
   "cell_type": "code",
   "execution_count": null,
   "id": "4ae21728",
   "metadata": {},
   "outputs": [],
   "source": []
  },
  {
   "cell_type": "code",
   "execution_count": null,
   "id": "ae92f6b8",
   "metadata": {},
   "outputs": [],
   "source": []
  },
  {
   "cell_type": "code",
   "execution_count": null,
   "id": "136deba9",
   "metadata": {},
   "outputs": [],
   "source": []
  },
  {
   "cell_type": "code",
   "execution_count": null,
   "id": "a269ea44",
   "metadata": {},
   "outputs": [],
   "source": []
  },
  {
   "cell_type": "code",
   "execution_count": null,
   "id": "9623b4f7",
   "metadata": {},
   "outputs": [],
   "source": []
  },
  {
   "cell_type": "code",
   "execution_count": null,
   "id": "69effb71",
   "metadata": {},
   "outputs": [],
   "source": []
  }
 ],
 "metadata": {
  "kernelspec": {
   "display_name": "Python 3 (ipykernel)",
   "language": "python",
   "name": "python3"
  },
  "language_info": {
   "codemirror_mode": {
    "name": "ipython",
    "version": 3
   },
   "file_extension": ".py",
   "mimetype": "text/x-python",
   "name": "python",
   "nbconvert_exporter": "python",
   "pygments_lexer": "ipython3",
   "version": "3.9.7"
  }
 },
 "nbformat": 4,
 "nbformat_minor": 5
}
