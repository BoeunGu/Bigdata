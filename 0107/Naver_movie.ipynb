{
 "cells": [
  {
   "cell_type": "markdown",
   "id": "3823461c",
   "metadata": {},
   "source": [
    "# Naver Movie Ranking"
   ]
  },
  {
   "cell_type": "code",
   "execution_count": 1,
   "id": "09a912fc",
   "metadata": {},
   "outputs": [],
   "source": [
    "import requests\n",
    "from bs4 import BeautifulSoup"
   ]
  },
  {
   "cell_type": "markdown",
   "id": "82cfbf78",
   "metadata": {},
   "source": [
    "## pyautogui 라이브러리로 간단한 팝업창 띄우기\n",
    "\n",
    "- 마우스, 키보드 매크로 라이브러리\n",
    "- 간단한 팝업창 띄우기 가능\n",
    "- pyautogui.promot(\"검색어 입력\")"
   ]
  },
  {
   "cell_type": "code",
   "execution_count": 2,
   "id": "38a7dab3",
   "metadata": {},
   "outputs": [
    {
     "name": "stdout",
     "output_type": "stream",
     "text": [
      "Requirement already satisfied: pyautogui in c:\\users\\yj\\anaconda3\\lib\\site-packages (0.9.53)\n",
      "Requirement already satisfied: pyscreeze>=0.1.21 in c:\\users\\yj\\anaconda3\\lib\\site-packages (from pyautogui) (0.1.28)\n",
      "Requirement already satisfied: pygetwindow>=0.0.5 in c:\\users\\yj\\anaconda3\\lib\\site-packages (from pyautogui) (0.0.9)\n",
      "Requirement already satisfied: mouseinfo in c:\\users\\yj\\anaconda3\\lib\\site-packages (from pyautogui) (0.1.3)\n",
      "Requirement already satisfied: pymsgbox in c:\\users\\yj\\anaconda3\\lib\\site-packages (from pyautogui) (1.0.9)\n",
      "Requirement already satisfied: PyTweening>=1.0.1 in c:\\users\\yj\\anaconda3\\lib\\site-packages (from pyautogui) (1.0.4)\n",
      "Requirement already satisfied: pyrect in c:\\users\\yj\\anaconda3\\lib\\site-packages (from pygetwindow>=0.0.5->pyautogui) (0.1.4)\n",
      "Requirement already satisfied: pyperclip in c:\\users\\yj\\anaconda3\\lib\\site-packages (from mouseinfo->pyautogui) (1.8.2)\n"
     ]
    }
   ],
   "source": [
    "!pip install pyautogui"
   ]
  },
  {
   "cell_type": "code",
   "execution_count": 3,
   "id": "fca35852",
   "metadata": {},
   "outputs": [
    {
     "name": "stdout",
     "output_type": "stream",
     "text": [
      "1. 스파이더맨: 노 웨이 홈 => /movie/bi/mi/basic.naver?code=208077\n",
      "2. 경관의 피 => /movie/bi/mi/basic.naver?code=190400\n",
      "3. 킹스맨: 퍼스트 에이전트 => /movie/bi/mi/basic.naver?code=159893\n",
      "4. 해피 뉴 이어 => /movie/bi/mi/basic.naver?code=204649\n",
      "5. 매트릭스: 리저렉션 => /movie/bi/mi/basic.naver?code=191600\n",
      "6. 씽2게더 => /movie/bi/mi/basic.naver?code=187320\n",
      "7. 돈 룩 업 => /movie/bi/mi/basic.naver?code=192614\n",
      "8. 드라이브 마이 카 => /movie/bi/mi/basic.naver?code=205623\n",
      "9. 램 => /movie/bi/mi/basic.naver?code=205625\n",
      "10. 타이거마스크 => /movie/bi/mi/basic.naver?code=210895\n",
      "11. 특송 => /movie/bi/mi/basic.naver?code=186233\n",
      "12. 엔칸토: 마법의 세계 => /movie/bi/mi/basic.naver?code=210282\n",
      "13. 레지던트 이블: 라쿤시티 => /movie/bi/mi/basic.naver?code=212886\n",
      "14. 라임크라임 => /movie/bi/mi/basic.naver?code=198621\n",
      "15. 고스트버스터즈 라이즈 => /movie/bi/mi/basic.naver?code=182578\n",
      "16. 하우스 오브 구찌 => /movie/bi/mi/basic.naver?code=200892\n",
      "17. 유체이탈자 => /movie/bi/mi/basic.naver?code=182362\n",
      "18. 메모리: 조작살인 => /movie/bi/mi/basic.naver?code=201964\n",
      "19. 해적: 도깨비 깃발 => /movie/bi/mi/basic.naver?code=194204\n",
      "20. 해탄적일천 => /movie/bi/mi/basic.naver?code=16064\n",
      "21. 웨스트 사이드 스토리 => /movie/bi/mi/basic.naver?code=180429\n",
      "22. 해피 아워 => /movie/bi/mi/basic.naver?code=142855\n",
      "23. 피드백 => /movie/bi/mi/basic.naver?code=183998\n",
      "24. 노웨어 스페셜 => /movie/bi/mi/basic.naver?code=196548\n",
      "25. 킹메이커 => /movie/bi/mi/basic.naver?code=177366\n",
      "26. 연애 빠진 로맨스 => /movie/bi/mi/basic.naver?code=196809\n",
      "27. 너에게 가는 길 => /movie/bi/mi/basic.naver?code=203715\n",
      "28. 당신얼굴 앞에서 => /movie/bi/mi/basic.naver?code=206608\n",
      "29. 원샷 => /movie/bi/mi/basic.naver?code=210894\n",
      "30. 티탄 => /movie/bi/mi/basic.naver?code=206641\n",
      "31. 그린 북 => /movie/bi/mi/basic.naver?code=171539\n",
      "32. 코다 => /movie/bi/mi/basic.naver?code=201073\n",
      "33. 더 배트맨 => /movie/bi/mi/basic.naver?code=154282\n",
      "34. 신데렐라 2: 마법에 걸린 왕자 => /movie/bi/mi/basic.naver?code=211612\n",
      "35. 기적 => /movie/bi/mi/basic.naver?code=199860\n",
      "36. 러브레터 => /movie/bi/mi/basic.naver?code=19031\n",
      "37. 괴기맨숀 => /movie/bi/mi/basic.naver?code=205629\n",
      "38. 베놈 2: 렛 데어 비 카니지 => /movie/bi/mi/basic.naver?code=187323\n",
      "39. 클리포드 더 빅 레드 독 => /movie/bi/mi/basic.naver?code=210806\n",
      "40. 모가디슈 => /movie/bi/mi/basic.naver?code=192150\n",
      "41. 프랑스 => /movie/bi/mi/basic.naver?code=206654\n",
      "42. 전장의 피아니스트 => /movie/bi/mi/basic.naver?code=194838\n",
      "43. 언차티드 => /movie/bi/mi/basic.naver?code=80737\n",
      "44. 밥정 => /movie/bi/mi/basic.naver?code=186114\n",
      "45. 듄 => /movie/bi/mi/basic.naver?code=191559\n",
      "46. 프렌치 디스패치 => /movie/bi/mi/basic.naver?code=187312\n",
      "47. 끝없음에 관하여 => /movie/bi/mi/basic.naver?code=188058\n",
      "48. 이터널스 => /movie/bi/mi/basic.naver?code=184311\n",
      "49. 청춘적니 => /movie/bi/mi/basic.naver?code=210853\n",
      "50. 씽 => /movie/bi/mi/basic.naver?code=144938\n"
     ]
    }
   ],
   "source": [
    "import pyautogui\n",
    "\n",
    "movie=requests.get(\"https://movie.naver.com/movie/sdb/rank/rmovie.naver\")\n",
    "html_movie = movie.text\n",
    "Refined_movie = BeautifulSoup(html_movie, 'html.parser')\n",
    "\n",
    "Ranking=Refined_movie.select('div.tit3 > a')\n",
    "number=1\n",
    "for list in Ranking:\n",
    "    title = list.text\n",
    "    link=list.attrs['href']\n",
    "    print(str(number)+'. '+title+ ' => '+link)\n",
    "    number+=1\n"
   ]
  },
  {
   "cell_type": "code",
   "execution_count": null,
   "id": "75c9227f",
   "metadata": {},
   "outputs": [],
   "source": []
  }
 ],
 "metadata": {
  "kernelspec": {
   "display_name": "Python 3 (ipykernel)",
   "language": "python",
   "name": "python3"
  },
  "language_info": {
   "codemirror_mode": {
    "name": "ipython",
    "version": 3
   },
   "file_extension": ".py",
   "mimetype": "text/x-python",
   "name": "python",
   "nbconvert_exporter": "python",
   "pygments_lexer": "ipython3",
   "version": "3.9.7"
  }
 },
 "nbformat": 4,
 "nbformat_minor": 5
}
