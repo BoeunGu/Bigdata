{
 "cells": [
  {
   "cell_type": "markdown",
   "id": "ff6b2238",
   "metadata": {},
   "source": [
    "## 실전 프로젝트1) 뉴스데이터 수집하기 / 03. 여러페이지 결과 모드 가져오기\n",
    "\n",
    "- URL 분석하기, 여러 페이지의 결과 가져오기 위해 이동하면서 URL이 어떻게 변하는지 살펴보기\n",
    "- 뉴스 다음페이지로 이동시 start 파라미터의 값 가져오기\n",
    "- "
   ]
  },
  {
   "cell_type": "code",
   "execution_count": 2,
   "id": "79372141",
   "metadata": {},
   "outputs": [],
   "source": [
    "import requests\n",
    "from bs4 import BeautifulSoup\n",
    "import pyautogui"
   ]
  },
  {
   "cell_type": "code",
   "execution_count": 25,
   "id": "0edd9bef",
   "metadata": {},
   "outputs": [
    {
     "name": "stdout",
     "output_type": "stream",
     "text": [
      "1 . 애플 구독 앱 해지 쉬워진다 http://www.fnnews.com/news/202201051327221755\n",
      "2 . 조엘 코엔 감독 '맥베스의 비극' 14일 애플TV+ 공개 http://starin.edaily.co.kr/news/newspath.asp?newsid=01154566632195424\n",
      "3 . \"이 장치 얼마나 위험한지 아냐\"…애플에 '버럭' 미 유명모델, 무슨일 있었길... http://news.mk.co.kr/newsRead.php?no=20697&year=2022\n",
      "4 . 애플 시총 3조달러 돌파...팀 쿡 CEO 보상금 1200억원 https://www.news1.kr/articles/?4547660\n",
      "5 . 올봄 '애플 이벤트'에서 기대되는 3가지 신제품 http://www.etnews.com/20220106000233\n",
      "6 . 애플 시총 3조달러 돌파에 워런 버핏 함박웃음…144조원 이상 수익 http://www.newsis.com/view/?id=NISX20220105_0001713469&cID=10101&pID=10100\n",
      "7 . 영국 위에 애플 https://www.seoul.co.kr/news/newsView.php?id=20220105002011&wlog_tag3=naver\n",
      "8 . 애플카 이어 소니카…IT·빅테크, 전기차 눈독 들이는 이유 http://news.mt.co.kr/mtview.php?no=2022010514595821292\n",
      "9 . 애플 앱스토어 내 구독서비스 해지 가능해진다 http://www.newsis.com/view/?id=NISX20220106_0001714817&cID=13001&pID=13000\n",
      "10 . “우리는 주름 없다”…애플 첫 폴더블폰 예상 이미지 보니 https://www.chosun.com/economy/tech_it/2022/01/05/OAC4HCKVVFCATIK4RJIBYYYGH4/?utm_source=naver&utm_medium=referral&utm_campaign=naver-news\n",
      "-----------------------------------------------------------PAGE 1 ------------------------------------------------------\n",
      "11 . 美애플, 최초로 장중 시총 3조달러 돌파 http://www.newsis.com/view/?id=NISX20220104_0001711776&cID=10101&pID=10100\n",
      "12 . 애플카 이어 소니카…IT·빅테크, 전기차 눈독 들이는 이유 http://news.mt.co.kr/mtview.php?no=2022010514595821292\n",
      "13 . 애플, 장중 시총 3조 달러 돌파…전 세계 기업 중 최초(종합) http://yna.kr/AKR20220104006600075?did=1195m\n",
      "14 . 코엔 감독 신작 '맥베스의 비극', 애플TV플러스서 14일 공개 https://ent.sbs.co.kr/news/article.do?article_id=E10010243190&plink=ORI&cooper=NAVER\n",
      "15 . 애플 시총 3조달러, 테슬라 14%↑…새해 첫날 뉴욕증시 '훈풍' http://yna.kr/AKR20220104008600072?did=1195m\n",
      "16 . 애플, 장중 시가총액 3조달러 돌파…전 세계 기업 중 최초 http://yna.kr/AKR20220104004800075?did=1195m\n",
      "17 . 연기만 피우는 애플과 달라…소니, 진짜 전기차 몰고 나왔다 http://news.mt.co.kr/mtview.php?no=2022010511453287406\n",
      "18 . 팀 쿡 애플 CEO의 실제 연봉은 얼마? http://www.digitaltoday.co.kr/news/articleView.html?idxno=431020\n",
      "19 . 연준의 한 마디가 애플, 테슬라 주가를 급락시켰다 https://www.chosun.com/economy/2022/01/06/AKDMFM5WS5CNJCM54LTOZLSPJI/?utm_source=naver&utm_medium=referral&utm_campaign=naver-news\n",
      "20 . [뉴욕증시] 연준 긴축 여파 지속에 하락… 애플·테슬라, 2%↓ http://moneys.mt.co.kr/news/mwView.php?no=2022010706588094422\n",
      "-----------------------------------------------------------PAGE 2 ------------------------------------------------------\n",
      "21 . \"애플도 접는다\"… '아이폰 폴드'는 어떻게 접히나 http://moneys.mt.co.kr/news/mwView.php?no=2022010517088053406\n",
      "22 . 구글, ‘2022년 안드로이드 로드맵’서 애플 쏙 빼닮은 기능 줄줄이 공개 https://biz.chosun.com/it-science/ict/2022/01/06/JY4ZUPW3UND33NAB4TR44XB6ZA/?utm_source=naver&utm_medium=original&utm_campaign=biz\n",
      "23 . 애플, 새학기 프로모션 실시…학생 ·교직원·학부모 대상 할인 https://www.ddaily.co.kr/news/article.html?no=228927\n",
      "24 . 삼성·애플, 중저가 스마트폰 시장으로 전선 확대 http://www.newsis.com/view/?id=NISX20220105_0001714034&cID=13005&pID=13100\n",
      "25 . 연준 의사록 공개에 뉴욕증시 급락…애플, 구글 기술주 타격 https://economist.co.kr/2022/01/06/stock/stockNormal/20220106080406536.html\n",
      "26 . 애플 M1 개발자, 인텔 아키텍처 담당자로 자리 옮겨 http://www.joseilbo.com/news/news_read.php?uid=443181&class=79&grp=\n",
      "27 . [CES2022 현지연결] 현대차 경쟁자는 ‘소니와 애플’…업종 경계 사라졌다 https://biz.sbs.co.kr/article_hub/20000045581?division=NAVER\n",
      "28 . 애플, 장중 시총 3조달러 돌파 …뉴욕증시, 새해 첫 거래일 상승 마감[모닝브... https://www.hankyung.com/economy/article/2022010435657\n",
      "29 . \"잡스 없는 애플은 끝\" 팀 쿡 비웃더니…10년 후 '역대급 반전' https://www.hankyung.com/finance/article/202201044436i\n",
      "30 . 잡스도 놀랄… 애플, 장중 시총 3조달러 세계 첫발 https://www.donga.com/news/article/all/20220104/111094163/1\n",
      "-----------------------------------------------------------PAGE 3 ------------------------------------------------------\n",
      "31 . \"애플 주가, 미국 경제보다 더 빠르게 상승할 것\" https://zdnet.co.kr/view/?no=20220105100648\n",
      "32 . \"애플, 같이가자\"… LG이노텍 목표가 50만원까지 올랐다 http://www.fnnews.com/news/202201051755413634\n",
      "33 . 뉴욕증시, 美연준 발언에 '또'…애플·테슬라 '휘청' http://www.nbntv.co.kr/news/articleView.html?idxno=948424\n",
      "34 . 애플 잡겠다던 中샤오미, 추징금·감시논란 새해부터 겹악재 http://www.fnnews.com/news/202201061400342928\n",
      "35 . 스테이씨, 애플뮤직·샤잠 '올해 주목 아티스트'…韓 가수 유일 http://www.newsis.com/view/?id=NISX20220105_0001713265&cID=10601&pID=10600\n",
      "36 . 애플, 시총 3조 달러 '세계 최초'...뉴욕증시 새해 첫 거래일 '훈풍' https://www.ytn.co.kr/_ln/0104_202201041144097176\n",
      "37 . \"한국 기업들 보고 있나?\"…이 세상 1등 주식 애플의 주가 관리법 http://news.mt.co.kr/mtview.php?no=2022010515143350345\n",
      "38 . '갤S21 FE' vs '아이폰SE3'…삼성·애플 새해 중저가폰 맞대결 http://news.tf.co.kr/read/economy/1910568.htm\n",
      "39 . \"애플카 나오면 애플 시가총액 4조 달러 돌파\" http://www.wowtv.co.kr/NewsCenter/News/Read?articleId=A202201040125&t=NN\n",
      "40 . 삼정KPMG \"글로벌 테크기업 ESG 추진… 애플, 인종평등 프로젝트\" http://moneys.mt.co.kr/news/mwView.php?no=2022010417208065748\n",
      "-----------------------------------------------------------PAGE 4 ------------------------------------------------------\n"
     ]
    }
   ],
   "source": [
    "# ui로 팝업창 띄워 사용자로부터 검색어 입력받기\n",
    "keyword = pyautogui.prompt(\"Search...\")\n",
    "pageWanted = pyautogui.prompt(\"Page Number...\")\n",
    "\n",
    "number=1 \n",
    "pageNum=1\n",
    "\n",
    "for i in range(1,int(pageWanted)*10,10):\n",
    "    response = requests.get(f\"https://search.naver.com/search.naver?where=news&sm=tab_jum&query={keyword}&start={i}\") # 몇페이지 부터 시작할지 설정\n",
    "    \n",
    "    html=response.text  # #웹사이트의 html소스코드를 가져옴\n",
    "    \n",
    "    # #HTML 텍스트를 가져오기 쉽게 soup를 적용\n",
    "    # #html.parser( html 번역기)로 해석\n",
    "    soup= BeautifulSoup(html,'html.parser')\n",
    "    \n",
    "    # #select는 여러개의 태그를 가져옴, select_one으로 원하는 태그 하나만 가져옴\n",
    "    # #select로 뉴스기사 10개를 다 가져옴\n",
    "    links = soup.select(\".news_tit\")\n",
    "    \n",
    "    # #리트스의 값을 하나씩 for문으로 출력\n",
    "    for link in links:\n",
    "        \n",
    "        title=link.text\n",
    "        url=link.attrs['href']\n",
    "        print(number,str(\".\"),title,url)\n",
    "        number+=1\n",
    "        if(number>1 and number%10==1):\n",
    "            print(str(\"-----------------------------------------------------------PAGE\"),pageNum,str(\"------------------------------------------------------\"))\n",
    "            pageNum+=1\n",
    "            "
   ]
  },
  {
   "cell_type": "code",
   "execution_count": null,
   "id": "9f80653b",
   "metadata": {},
   "outputs": [],
   "source": []
  },
  {
   "cell_type": "code",
   "execution_count": null,
   "id": "2e5387a7",
   "metadata": {},
   "outputs": [],
   "source": []
  }
 ],
 "metadata": {
  "kernelspec": {
   "display_name": "Python 3 (ipykernel)",
   "language": "python",
   "name": "python3"
  },
  "language_info": {
   "codemirror_mode": {
    "name": "ipython",
    "version": 3
   },
   "file_extension": ".py",
   "mimetype": "text/x-python",
   "name": "python",
   "nbconvert_exporter": "python",
   "pygments_lexer": "ipython3",
   "version": "3.9.7"
  }
 },
 "nbformat": 4,
 "nbformat_minor": 5
}
